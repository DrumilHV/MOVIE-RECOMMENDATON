{
 "cells": [
  {
   "cell_type": "markdown",
   "metadata": {
    "colab_type": "text",
    "id": "pEDQblEbFMFP"
   },
   "source": [
    "This method explores the genre and rating associated with the movie and the customer to develop customer vector based on the content. The recommendations are generated using this customer vector."
   ]
  },
  {
   "cell_type": "code",
   "execution_count": 8,
   "metadata": {
    "colab": {},
    "colab_type": "code",
    "id": "3EdPIM8gE75h",
    "scrolled": true
   },
   "outputs": [],
   "source": [
    "import numpy as np\n",
    "import pandas as pd\n",
    "import matplotlib.pyplot as plt\n",
    "from ast import literal_eval"
   ]
  },
  {
   "cell_type": "code",
   "execution_count": 40,
   "metadata": {
    "colab": {},
    "colab_type": "code",
    "id": "-0I2fW5_E75j"
   },
   "outputs": [],
   "source": [
    "# Load movies data\n",
    "# movies = pd.read_csv(\"movies.csv\", converters={\"genres\": literal_eval})\n",
    "movies = pd.read_csv(\"movies.csv\", converters={\"genres\": str})\n",
    "\n",
    "\n",
    "# Read CSV file, drop rows with null values in the \"genres\" column\n",
    "# movies = pd.read_csv(\"movies.csv\").dropna(subset=[\"genres\"])\n",
    "\n",
    "# # Convert the \"genres\" column using literal_eval\n",
    "movies[\"genres\"] = movies[\"genres\"].str.split('|')\n",
    "# Read CSV file"
   ]
  },
  {
   "cell_type": "code",
   "execution_count": 37,
   "metadata": {
    "colab": {},
    "colab_type": "code",
    "id": "DMKuwncvE75m"
   },
   "outputs": [],
   "source": [
    "# Load the training data\n",
    "ratings_train = pd.read_csv(\"training_data.csv\", converters={\"genres\": literal_eval, \"tag\": literal_eval})\n",
    "\n",
    "# ratings_train.head()"
   ]
  },
  {
   "cell_type": "code",
   "execution_count": 41,
   "metadata": {
    "colab": {},
    "colab_type": "code",
    "id": "pCjakau0E75o",
    "outputId": "c3abde85-c349-4726-db4a-87a2ac8ba259",
    "scrolled": false
   },
   "outputs": [
    {
     "data": {
      "text/plain": [
       "{'Adventure': 0,\n",
       " 'Animation': 1,\n",
       " 'Children': 2,\n",
       " 'Comedy': 3,\n",
       " 'Fantasy': 4,\n",
       " 'Romance': 5,\n",
       " 'Drama': 6,\n",
       " 'Action': 7,\n",
       " 'Crime': 8,\n",
       " 'Thriller': 9,\n",
       " 'Horror': 10,\n",
       " 'Mystery': 11,\n",
       " 'Sci-Fi': 12,\n",
       " 'War': 13,\n",
       " 'Musical': 14,\n",
       " 'Documentary': 15,\n",
       " 'IMAX': 16,\n",
       " 'Western': 17,\n",
       " 'Film-Noir': 18,\n",
       " '(no genres listed)': 19}"
      ]
     },
     "execution_count": 41,
     "metadata": {},
     "output_type": "execute_result"
    }
   ],
   "source": [
    "# Get unique genres from the data\n",
    "unique_genre = movies['genres'].explode().unique()\n",
    "\n",
    "# Get the count of each genre\n",
    "genre_distribution = ratings_train['genres'].explode().value_counts()\n",
    "\n",
    "# Make a dict assigning an index to a genre\n",
    "genre_dict = {k: v for v, k in enumerate(unique_genre)}\n",
    "genre_dict"
   ]
  },
  {
   "cell_type": "code",
   "execution_count": 42,
   "metadata": {
    "colab": {},
    "colab_type": "code",
    "id": "0HXrmzdaE75r",
    "outputId": "b398e82a-6484-4834-e85a-a0d76bee07e6"
   },
   "outputs": [
    {
     "data": {
      "image/png": "[encoded data removed]",
      "text/plain": [
       "<Figure size 432x288 with 1 Axes>"
      ]
     },
     "metadata": {},
     "output_type": "display_data"
    }
   ],
   "source": [
    "# import plotly.express as px \n",
    "# fig = px.pie(genre_distribution, values = genre_distribution.values, names = genre_distribution.keys(), \n",
    "#              title='Genre distribution') \n",
    "# fig.show()\n",
    "plt.pie(genre_distribution.values, labels = genre_distribution.keys())\n",
    "plt.show()"
   ]
  },
  {
   "cell_type": "code",
   "execution_count": 18,
   "metadata": {
    "colab": {},
    "colab_type": "code",
    "id": "coJkaswtE75t"
   },
   "outputs": [],
   "source": [
    "# SLOW Code -- use skleatrn instead of this (in the next cell)\n",
    "\n",
    "# # Creating a column per genre \n",
    "# df = ratings_train['genres'].apply(frozenset).to_frame(name='genre')\n",
    "# for genre in frozenset.union(*df.genre):\n",
    "#     df[genre] = df.apply(lambda _: int(genre in _.genre), axis=1)\n",
    "    \n",
    "# df.head()"
   ]
  },
  {
   "cell_type": "code",
   "execution_count": null,
   "metadata": {
    "colab": {},
    "colab_type": "code",
    "id": "TOVCdlNfE75w"
   },
   "outputs": [],
   "source": [
    "# This is not needed now\n",
    "\n",
    "# from sklearn.preprocessing import MultiLabelBinarizer\n",
    "\n",
    "# # Binarise labels\n",
    "# mlb = MultiLabelBinarizer()\n",
    "# expandedLabelData = mlb.fit_transform(ratings_train[\"genres\"])\n",
    "# labelClasses = mlb.classes_\n",
    "\n",
    "# # Create a pandas.DataFrame from our output\n",
    "# expandedLabels = pd.DataFrame(expandedLabelData, columns=labelClasses)\n",
    "\n",
    "# # # View the data\n",
    "# # expandedLabels.head()\n",
    "\n",
    "# ratings_movie_genre = pd.concat([ratings_train, expandedLabels], axis=1)\n",
    "# ratings_movie_genre.head()"
   ]
  },
  {
   "cell_type": "code",
   "execution_count": 43,
   "metadata": {
    "colab": {},
    "colab_type": "code",
    "id": "_G9Om5kLE75y"
   },
   "outputs": [],
   "source": [
    "movies['movie_vector'] = \"\"\n",
    "for ind, row in movies.iterrows():\n",
    "    genres = row.genres\n",
    "    movie_vector = np.zeros(len(genre_dict))\n",
    "\n",
    "    for g in genres:\n",
    "        movie_vector[genre_dict[g]] = 1\n",
    "    movies.at[ind, 'movie_vector'] = movie_vector\n",
    "\n",
    "# Save the final dataframe\n",
    "movies.to_csv(\"movie_vector.csv\")"
   ]
  },
  {
   "cell_type": "code",
   "execution_count": 44,
   "metadata": {
    "colab": {},
    "colab_type": "code",
    "id": "noGaua-YE750",
    "outputId": "32a50a7c-3551-444a-bbd0-93b90a0da6dd",
    "scrolled": true
   },
   "outputs": [
    {
     "data": {
      "text/html": [
       "<div>\n",
       "<style scoped>\n",
       "    .dataframe tbody tr th:only-of-type {\n",
       "        vertical-align: middle;\n",
       "    }\n",
       "\n",
       "    .dataframe tbody tr th {\n",
       "        vertical-align: top;\n",
       "    }\n",
       "\n",
       "    .dataframe thead th {\n",
       "        text-align: right;\n",
       "    }\n",
       "</style>\n",
       "<table border=\"1\" class=\"dataframe\">\n",
       "  <thead>\n",
       "    <tr style=\"text-align: right;\">\n",
       "      <th></th>\n",
       "      <th>movieId</th>\n",
       "      <th>title</th>\n",
       "      <th>genres</th>\n",
       "      <th>movie_vector</th>\n",
       "    </tr>\n",
       "  </thead>\n",
       "  <tbody>\n",
       "    <tr>\n",
       "      <th>0</th>\n",
       "      <td>1</td>\n",
       "      <td>Toy Story (1995)</td>\n",
       "      <td>[Adventure, Animation, Children, Comedy, Fantasy]</td>\n",
       "      <td>[1.0, 1.0, 1.0, 1.0, 1.0, 0.0, 0.0, 0.0, 0.0, ...</td>\n",
       "    </tr>\n",
       "    <tr>\n",
       "      <th>1</th>\n",
       "      <td>2</td>\n",
       "      <td>Jumanji (1995)</td>\n",
       "      <td>[Adventure, Children, Fantasy]</td>\n",
       "      <td>[1.0, 0.0, 1.0, 0.0, 1.0, 0.0, 0.0, 0.0, 0.0, ...</td>\n",
       "    </tr>\n",
       "    <tr>\n",
       "      <th>2</th>\n",
       "      <td>3</td>\n",
       "      <td>Grumpier Old Men (1995)</td>\n",
       "      <td>[Comedy, Romance]</td>\n",
       "      <td>[0.0, 0.0, 0.0, 1.0, 0.0, 1.0, 0.0, 0.0, 0.0, ...</td>\n",
       "    </tr>\n",
       "    <tr>\n",
       "      <th>3</th>\n",
       "      <td>4</td>\n",
       "      <td>Waiting to Exhale (1995)</td>\n",
       "      <td>[Comedy, Drama, Romance]</td>\n",
       "      <td>[0.0, 0.0, 0.0, 1.0, 0.0, 1.0, 1.0, 0.0, 0.0, ...</td>\n",
       "    </tr>\n",
       "    <tr>\n",
       "      <th>4</th>\n",
       "      <td>5</td>\n",
       "      <td>Father of the Bride Part II (1995)</td>\n",
       "      <td>[Comedy]</td>\n",
       "      <td>[0.0, 0.0, 0.0, 1.0, 0.0, 0.0, 0.0, 0.0, 0.0, ...</td>\n",
       "    </tr>\n",
       "  </tbody>\n",
       "</table>\n",
       "</div>"
      ],
      "text/plain": [
       "   movieId                               title  \\\n",
       "0        1                    Toy Story (1995)   \n",
       "1        2                      Jumanji (1995)   \n",
       "2        3             Grumpier Old Men (1995)   \n",
       "3        4            Waiting to Exhale (1995)   \n",
       "4        5  Father of the Bride Part II (1995)   \n",
       "\n",
       "                                              genres  \\\n",
       "0  [Adventure, Animation, Children, Comedy, Fantasy]   \n",
       "1                     [Adventure, Children, Fantasy]   \n",
       "2                                  [Comedy, Romance]   \n",
       "3                           [Comedy, Drama, Romance]   \n",
       "4                                           [Comedy]   \n",
       "\n",
       "                                        movie_vector  \n",
       "0  [1.0, 1.0, 1.0, 1.0, 1.0, 0.0, 0.0, 0.0, 0.0, ...  \n",
       "1  [1.0, 0.0, 1.0, 0.0, 1.0, 0.0, 0.0, 0.0, 0.0, ...  \n",
       "2  [0.0, 0.0, 0.0, 1.0, 0.0, 1.0, 0.0, 0.0, 0.0, ...  \n",
       "3  [0.0, 0.0, 0.0, 1.0, 0.0, 1.0, 1.0, 0.0, 0.0, ...  \n",
       "4  [0.0, 0.0, 0.0, 1.0, 0.0, 0.0, 0.0, 0.0, 0.0, ...  "
      ]
     },
     "execution_count": 44,
     "metadata": {},
     "output_type": "execute_result"
    }
   ],
   "source": [
    "movies.head()"
   ]
  },
  {
   "cell_type": "code",
   "execution_count": 45,
   "metadata": {
    "colab": {},
    "colab_type": "code",
    "id": "MBpbLupqE752"
   },
   "outputs": [],
   "source": [
    "user_ids = ratings_train['userId'].unique()\n",
    "user_df = pd.DataFrame(columns=['userId', 'user_vector', 'avg_rating', 'num_movies_rated'])\n",
    "                       \n",
    "for user_id in user_ids:\n",
    "#     print(user_id)\n",
    "    user_rating_df = ratings_train[(ratings_train['userId'] == user_id)]\n",
    "#     print(user_rating_df)\n",
    "\n",
    "    user_vector = np.zeros(len(genre_dict))\n",
    "    count_vector = np.zeros(len(genre_dict))\n",
    "    \n",
    "    user_avg_rating = 0\n",
    "    movies_rated_count = 0\n",
    "    \n",
    "    for _, row in user_rating_df.iterrows():\n",
    "        user_avg_rating += row.rating \n",
    "        movies_rated_count += 1\n",
    "        genres = row.genres\n",
    "\n",
    "        user_movie_vector = np.zeros(len(genre_dict))\n",
    "        \n",
    "        for g in genres:\n",
    "            user_movie_vector[genre_dict[g]] = 1\n",
    "            count_vector[genre_dict[g]] += 1\n",
    "            \n",
    "        user_vector += user_movie_vector*row.rating\n",
    "\n",
    "    count_vector = np.where(count_vector==0, 1, count_vector)\n",
    "    user_vector = np.divide(user_vector, count_vector)\n",
    "    user_avg_rating /= movies_rated_count\n",
    "    row_df = pd.DataFrame([[user_id, user_vector, user_avg_rating, movies_rated_count]], \n",
    "                          columns=['userId', 'user_vector', 'avg_rating', 'num_movies_rated'])\n",
    "#     print(row_df)\n",
    "    user_df = pd.concat([user_df, row_df], ignore_index=True)"
   ]
  },
  {
   "cell_type": "code",
   "execution_count": 46,
   "metadata": {
    "colab": {},
    "colab_type": "code",
    "id": "a4HUlsrME754"
   },
   "outputs": [],
   "source": [
    "# Save the final dataframe\n",
    "user_df.to_csv(\"user_info.csv\")"
   ]
  },
  {
   "cell_type": "code",
   "execution_count": 47,
   "metadata": {
    "colab": {},
    "colab_type": "code",
    "id": "1Oxo_uJBE756",
    "outputId": "90805676-9130-4c84-f84f-6b7b4bb971fe"
   },
   "outputs": [
    {
     "data": {
      "text/html": [
       "<div>\n",
       "<style scoped>\n",
       "    .dataframe tbody tr th:only-of-type {\n",
       "        vertical-align: middle;\n",
       "    }\n",
       "\n",
       "    .dataframe tbody tr th {\n",
       "        vertical-align: top;\n",
       "    }\n",
       "\n",
       "    .dataframe thead th {\n",
       "        text-align: right;\n",
       "    }\n",
       "</style>\n",
       "<table border=\"1\" class=\"dataframe\">\n",
       "  <thead>\n",
       "    <tr style=\"text-align: right;\">\n",
       "      <th></th>\n",
       "      <th>userId</th>\n",
       "      <th>user_vector</th>\n",
       "      <th>avg_rating</th>\n",
       "      <th>num_movies_rated</th>\n",
       "    </tr>\n",
       "  </thead>\n",
       "  <tbody>\n",
       "    <tr>\n",
       "      <th>0</th>\n",
       "      <td>1</td>\n",
       "      <td>[4.402985074626866, 4.666666666666667, 4.48571...</td>\n",
       "      <td>4.365591</td>\n",
       "      <td>186</td>\n",
       "    </tr>\n",
       "    <tr>\n",
       "      <th>1</th>\n",
       "      <td>2</td>\n",
       "      <td>[4.166666666666667, 0.0, 0.0, 4.0, 0.0, 4.5, 4...</td>\n",
       "      <td>4.021739</td>\n",
       "      <td>23</td>\n",
       "    </tr>\n",
       "    <tr>\n",
       "      <th>2</th>\n",
       "      <td>3</td>\n",
       "      <td>[2.4444444444444446, 0.5, 0.5, 1.0625, 3.375, ...</td>\n",
       "      <td>2.564516</td>\n",
       "      <td>31</td>\n",
       "    </tr>\n",
       "    <tr>\n",
       "      <th>3</th>\n",
       "      <td>4</td>\n",
       "      <td>[3.5454545454545454, 3.8, 3.6666666666666665, ...</td>\n",
       "      <td>3.520231</td>\n",
       "      <td>173</td>\n",
       "    </tr>\n",
       "    <tr>\n",
       "      <th>4</th>\n",
       "      <td>5</td>\n",
       "      <td>[3.0, 4.5, 4.166666666666667, 3.23076923076923...</td>\n",
       "      <td>3.514286</td>\n",
       "      <td>35</td>\n",
       "    </tr>\n",
       "  </tbody>\n",
       "</table>\n",
       "</div>"
      ],
      "text/plain": [
       "  userId                                        user_vector  avg_rating  \\\n",
       "0      1  [4.402985074626866, 4.666666666666667, 4.48571...    4.365591   \n",
       "1      2  [4.166666666666667, 0.0, 0.0, 4.0, 0.0, 4.5, 4...    4.021739   \n",
       "2      3  [2.4444444444444446, 0.5, 0.5, 1.0625, 3.375, ...    2.564516   \n",
       "3      4  [3.5454545454545454, 3.8, 3.6666666666666665, ...    3.520231   \n",
       "4      5  [3.0, 4.5, 4.166666666666667, 3.23076923076923...    3.514286   \n",
       "\n",
       "  num_movies_rated  \n",
       "0              186  \n",
       "1               23  \n",
       "2               31  \n",
       "3              173  \n",
       "4               35  "
      ]
     },
     "execution_count": 47,
     "metadata": {},
     "output_type": "execute_result"
    }
   ],
   "source": [
    "user_df.head()"
   ]
  },
  {
   "cell_type": "code",
   "execution_count": 48,
   "metadata": {
    "colab": {},
    "colab_type": "code",
    "id": "LX8x9_iGE758",
    "outputId": "66e57c35-36c9-4189-c9b1-75c678330146"
   },
   "outputs": [
    {
     "data": {
      "text/html": [
       "<div>\n",
       "<style scoped>\n",
       "    .dataframe tbody tr th:only-of-type {\n",
       "        vertical-align: middle;\n",
       "    }\n",
       "\n",
       "    .dataframe tbody tr th {\n",
       "        vertical-align: top;\n",
       "    }\n",
       "\n",
       "    .dataframe thead th {\n",
       "        text-align: right;\n",
       "    }\n",
       "</style>\n",
       "<table border=\"1\" class=\"dataframe\">\n",
       "  <thead>\n",
       "    <tr style=\"text-align: right;\">\n",
       "      <th></th>\n",
       "      <th>userId</th>\n",
       "      <th>movieId</th>\n",
       "      <th>rating</th>\n",
       "      <th>timestamp</th>\n",
       "      <th>genres</th>\n",
       "      <th>tag</th>\n",
       "    </tr>\n",
       "  </thead>\n",
       "  <tbody>\n",
       "    <tr>\n",
       "      <th>0</th>\n",
       "      <td>1</td>\n",
       "      <td>1</td>\n",
       "      <td>4.0</td>\n",
       "      <td>964982703</td>\n",
       "      <td>[Adventure, Animation, Children, Comedy, Fantasy]</td>\n",
       "      <td>[]</td>\n",
       "    </tr>\n",
       "    <tr>\n",
       "      <th>1</th>\n",
       "      <td>1</td>\n",
       "      <td>3</td>\n",
       "      <td>4.0</td>\n",
       "      <td>964981247</td>\n",
       "      <td>[Comedy, Romance]</td>\n",
       "      <td>[]</td>\n",
       "    </tr>\n",
       "    <tr>\n",
       "      <th>2</th>\n",
       "      <td>1</td>\n",
       "      <td>6</td>\n",
       "      <td>4.0</td>\n",
       "      <td>964982224</td>\n",
       "      <td>[Action, Crime, Thriller]</td>\n",
       "      <td>[]</td>\n",
       "    </tr>\n",
       "    <tr>\n",
       "      <th>3</th>\n",
       "      <td>1</td>\n",
       "      <td>163</td>\n",
       "      <td>5.0</td>\n",
       "      <td>964983650</td>\n",
       "      <td>[Action, Romance, Western]</td>\n",
       "      <td>[]</td>\n",
       "    </tr>\n",
       "    <tr>\n",
       "      <th>4</th>\n",
       "      <td>1</td>\n",
       "      <td>316</td>\n",
       "      <td>3.0</td>\n",
       "      <td>964982310</td>\n",
       "      <td>[Action, Adventure, Sci-Fi]</td>\n",
       "      <td>[]</td>\n",
       "    </tr>\n",
       "  </tbody>\n",
       "</table>\n",
       "</div>"
      ],
      "text/plain": [
       "   userId  movieId  rating  timestamp  \\\n",
       "0       1        1     4.0  964982703   \n",
       "1       1        3     4.0  964981247   \n",
       "2       1        6     4.0  964982224   \n",
       "3       1      163     5.0  964983650   \n",
       "4       1      316     3.0  964982310   \n",
       "\n",
       "                                              genres tag  \n",
       "0  [Adventure, Animation, Children, Comedy, Fantasy]  []  \n",
       "1                                  [Comedy, Romance]  []  \n",
       "2                          [Action, Crime, Thriller]  []  \n",
       "3                         [Action, Romance, Western]  []  \n",
       "4                        [Action, Adventure, Sci-Fi]  []  "
      ]
     },
     "execution_count": 48,
     "metadata": {},
     "output_type": "execute_result"
    }
   ],
   "source": [
    "ratings_test = pd.read_csv(\"testing_data.csv\", converters={\"genres\": literal_eval, \"tag\": literal_eval}) \n",
    "ratings_test.head()"
   ]
  },
  {
   "cell_type": "markdown",
   "metadata": {
    "colab_type": "text",
    "id": "93wgYR1LE75-"
   },
   "source": [
    "### Next  few cells for sample test data point"
   ]
  },
  {
   "cell_type": "code",
   "execution_count": 49,
   "metadata": {
    "colab": {},
    "colab_type": "code",
    "id": "s7bMkOXpE75-",
    "outputId": "72e0b289-0d00-400f-8bba-aaf988655437"
   },
   "outputs": [
    {
     "data": {
      "text/plain": [
       "userId                                                       1\n",
       "movieId                                                      1\n",
       "rating                                                     4.0\n",
       "timestamp                                            964982703\n",
       "genres       [Adventure, Animation, Children, Comedy, Fantasy]\n",
       "tag                                                         []\n",
       "Name: 0, dtype: object"
      ]
     },
     "execution_count": 49,
     "metadata": {},
     "output_type": "execute_result"
    }
   ],
   "source": [
    "ratings_test.iloc[0]"
   ]
  },
  {
   "cell_type": "code",
   "execution_count": 50,
   "metadata": {
    "colab": {},
    "colab_type": "code",
    "id": "xD0Lky29E76A",
    "outputId": "75a3cd13-d48c-496d-e42c-2bac76ee6950"
   },
   "outputs": [
    {
     "data": {
      "text/html": [
       "<div>\n",
       "<style scoped>\n",
       "    .dataframe tbody tr th:only-of-type {\n",
       "        vertical-align: middle;\n",
       "    }\n",
       "\n",
       "    .dataframe tbody tr th {\n",
       "        vertical-align: top;\n",
       "    }\n",
       "\n",
       "    .dataframe thead th {\n",
       "        text-align: right;\n",
       "    }\n",
       "</style>\n",
       "<table border=\"1\" class=\"dataframe\">\n",
       "  <thead>\n",
       "    <tr style=\"text-align: right;\">\n",
       "      <th></th>\n",
       "      <th>userId</th>\n",
       "      <th>movieId</th>\n",
       "      <th>rating</th>\n",
       "      <th>timestamp</th>\n",
       "      <th>genres</th>\n",
       "      <th>tag</th>\n",
       "    </tr>\n",
       "  </thead>\n",
       "  <tbody>\n",
       "    <tr>\n",
       "      <th>79627</th>\n",
       "      <td>610</td>\n",
       "      <td>6</td>\n",
       "      <td>5.0</td>\n",
       "      <td>1493850345</td>\n",
       "      <td>[Action, Crime, Thriller]</td>\n",
       "      <td>[]</td>\n",
       "    </tr>\n",
       "  </tbody>\n",
       "</table>\n",
       "</div>"
      ],
      "text/plain": [
       "       userId  movieId  rating   timestamp                     genres tag\n",
       "79627     610        6     5.0  1493850345  [Action, Crime, Thriller]  []"
      ]
     },
     "execution_count": 50,
     "metadata": {},
     "output_type": "execute_result"
    }
   ],
   "source": [
    "user_rating_df[user_rating_df['movieId']==6]"
   ]
  },
  {
   "cell_type": "code",
   "execution_count": 51,
   "metadata": {
    "colab": {},
    "colab_type": "code",
    "id": "6PZZJ09oE76G",
    "outputId": "5b878dd8-efd2-43b2-efa1-515972422bd1"
   },
   "outputs": [
    {
     "name": "stdout",
     "output_type": "stream",
     "text": [
      "[0. 0. 0. 0. 0. 0. 0. 1. 1. 1. 0. 0. 0. 0. 0. 0. 0. 0. 0. 0.]\n"
     ]
    }
   ],
   "source": [
    "genres = user_rating_df[user_rating_df['movieId']==6].genres.values[0]\n",
    "vector = np.zeros(len(genre_dict))\n",
    "for g in genres:\n",
    "    vector[genre_dict[g]] = 1\n",
    "print(vector)"
   ]
  },
  {
   "cell_type": "code",
   "execution_count": 52,
   "metadata": {
    "colab": {},
    "colab_type": "code",
    "id": "bx4vq6KZE76I",
    "outputId": "ae235b28-cdfd-48f3-8aaa-3e08ffe6f9f8"
   },
   "outputs": [
    {
     "data": {
      "text/plain": [
       "array([4.40298507, 4.66666667, 4.48571429, 4.265625  , 4.26470588,\n",
       "       4.3       , 4.52459016, 4.30434783, 4.32432432, 4.15555556,\n",
       "       3.30769231, 4.0625    , 4.2       , 4.55      , 4.64705882,\n",
       "       0.        , 0.        , 4.        , 5.        , 0.        ])"
      ]
     },
     "execution_count": 52,
     "metadata": {},
     "output_type": "execute_result"
    }
   ],
   "source": [
    "user_df[user_df['userId']==1].user_vector[0]"
   ]
  },
  {
   "cell_type": "code",
   "execution_count": 53,
   "metadata": {
    "colab": {},
    "colab_type": "code",
    "id": "FD3esxqIE76K",
    "outputId": "43b0346e-5b23-42a3-9432-1e520347ac20",
    "scrolled": true
   },
   "outputs": [
    {
     "data": {
      "text/plain": [
       "4.261409235322279"
      ]
     },
     "execution_count": 53,
     "metadata": {},
     "output_type": "execute_result"
    }
   ],
   "source": [
    "x = vector*user_df[user_df['userId']==1].user_vector[0]\n",
    "np.nanmean(np.where(x!=0,x,np.nan)) "
   ]
  },
  {
   "cell_type": "markdown",
   "metadata": {
    "colab_type": "text",
    "id": "Rjrj3u66E76M"
   },
   "source": [
    "### Test on entire test data"
   ]
  },
  {
   "cell_type": "code",
   "execution_count": null,
   "metadata": {
    "colab": {},
    "colab_type": "code",
    "id": "vhTae8OXE76M"
   },
   "outputs": [],
   "source": [
    "# Load the already calculated data from csvs\n",
    "\n",
    "# user_df = pd.read_csv(\"user_info.csv\", converters={\"user_vector\": pd.array})\n",
    "# movies_df = pd.read_csv(\"movie_vector.csv\", converters={\"movie_vector\": pd.array})"
   ]
  },
  {
   "cell_type": "code",
   "execution_count": 54,
   "metadata": {
    "colab": {},
    "colab_type": "code",
    "id": "xez8u-JME76O"
   },
   "outputs": [],
   "source": [
    "algo_predictions = pd.DataFrame(columns=['userId', 'movieId', 'user_vector', 'movie_vector', 'og_rating', 'pred_rating'])\n",
    "for ind, row in ratings_test.iterrows():\n",
    "    userId = row['userId']\n",
    "    movieId = row['movieId']\n",
    "    og_rating = row['rating']\n",
    "#     print(userId)\n",
    "#     print(movieId)\n",
    "    \n",
    "    try:\n",
    "        user_vector = user_df[user_df['userId'] == int(userId)].user_vector.values[0]\n",
    "        movie_vector = movies[movies['movieId'] == int(movieId)].movie_vector.values[0]\n",
    "    #     print(user_vector)\n",
    "    #     print(movie_vector)\n",
    "\n",
    "        predicted_rating = user_vector*movie_vector\n",
    "    #     print(predicted_rating)\n",
    "        \n",
    "        if predicted_rating.any():\n",
    "            predicted_rating = np.nanmean(np.where(predicted_rating!=0, predicted_rating, np.nan)) \n",
    "    #     print(predicted_rating)\n",
    "        else:\n",
    "            predicted_rating = 0\n",
    "\n",
    "        row_df = pd.DataFrame([[userId, movieId, user_vector, movie_vector, og_rating, predicted_rating]], \n",
    "                    columns=['userId', 'movieId', 'user_vector', 'movie_vector', 'og_rating', 'pred_rating'])\n",
    "        algo_predictions = pd.concat([algo_predictions, row_df], ignore_index=True)\n",
    "    except:\n",
    "        print(\"User not found: \", userId)"
   ]
  },
  {
   "cell_type": "code",
   "execution_count": 55,
   "metadata": {
    "colab": {},
    "colab_type": "code",
    "id": "kX92i_TbE76Q",
    "outputId": "35c02977-8068-45b8-c97d-75b2d4dba239"
   },
   "outputs": [
    {
     "data": {
      "text/plain": [
       "0.9227474215249092"
      ]
     },
     "execution_count": 55,
     "metadata": {},
     "output_type": "execute_result"
    }
   ],
   "source": [
    "rmse = ((algo_predictions.og_rating - algo_predictions.pred_rating) ** 2).mean() ** .5\n",
    "rmse"
   ]
  },
  {
   "cell_type": "code",
   "execution_count": 56,
   "metadata": {
    "colab": {},
    "colab_type": "code",
    "id": "9y_KEqI8E76T",
    "outputId": "4727793c-cfe7-4c55-c89b-90803057d1e1"
   },
   "outputs": [
    {
     "data": {
      "text/plain": [
       "0.7136243003252517"
      ]
     },
     "execution_count": 56,
     "metadata": {},
     "output_type": "execute_result"
    }
   ],
   "source": [
    "mae = (((algo_predictions.og_rating - algo_predictions.pred_rating) ** 2) ** .5).mean()\n",
    "mae"
   ]
  }
 ],
 "metadata": {
  "colab": {
   "collapsed_sections": [],
   "name": "content_based_recommendation.ipynb",
   "provenance": []
  },
  "kernelspec": {
   "display_name": "Python 3",
   "language": "python",
   "name": "python3"
  },
  "language_info": {
   "codemirror_mode": {
    "name": "ipython",
    "version": 3
   },
   "file_extension": ".py",
   "mimetype": "text/x-python",
   "name": "python",
   "nbconvert_exporter": "python",
   "pygments_lexer": "ipython3",
   "version": "3.7.10"
  }
 },
 "nbformat": 4,
 "nbformat_minor": 1
}
