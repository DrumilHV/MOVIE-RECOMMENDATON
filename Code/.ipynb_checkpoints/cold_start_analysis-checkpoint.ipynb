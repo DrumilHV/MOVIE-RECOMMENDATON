{
 "cells": [
  {
   "cell_type": "markdown",
   "metadata": {
    "colab_type": "text",
    "id": "S5rY5TFX_Fzq"
   },
   "source": [
    "#### Cold Start Analysis:\n",
    "\n",
    "This notebook analyses the performance of different approaches in case of a new user or a user with less number of interaction with the system, namely the cold start problem. \\\\\n",
    "We compute the rmse and mae for those customers who have rated less than 18 books and so on. \\\\\n",
    "We also observe the performance of approached for customers who have rated more than 1000 movies. "
   ]
  },
  {
   "cell_type": "code",
   "execution_count": 1,
   "metadata": {
    "colab": {},
    "colab_type": "code",
    "id": "l6H9h87h_DXr"
   },
   "outputs": [
    {
     "name": "stdout",
     "output_type": "stream",
     "text": [
      "Collecting surprise\n",
      "  Downloading surprise-0.1-py2.py3-none-any.whl (1.8 kB)\n",
      "Collecting scikit-surprise (from surprise)\n",
      "  Using cached scikit-surprise-1.1.1.tar.gz (11.8 MB)\n",
      "  Preparing metadata (setup.py) ... \u001b[?25ldone\n",
      "\u001b[?25hRequirement already satisfied: joblib>=0.11 in /Users/drumilved/opt/anaconda3/lib/python3.7/site-packages (from scikit-surprise->surprise) (1.0.1)\n",
      "Requirement already satisfied: numpy>=1.11.2 in /Users/drumilved/opt/anaconda3/lib/python3.7/site-packages (from scikit-surprise->surprise) (1.20.1)\n",
      "Requirement already satisfied: scipy>=1.0.0 in /Users/drumilved/opt/anaconda3/lib/python3.7/site-packages (from scikit-surprise->surprise) (1.6.2)\n",
      "Requirement already satisfied: six>=1.10.0 in /Users/drumilved/opt/anaconda3/lib/python3.7/site-packages (from scikit-surprise->surprise) (1.16.0)\n",
      "Building wheels for collected packages: scikit-surprise\n",
      "  Building wheel for scikit-surprise (setup.py) ... \u001b[?25ldone\n",
      "\u001b[?25h  Created wheel for scikit-surprise: filename=scikit_surprise-1.1.1-cp37-cp37m-macosx_10_9_x86_64.whl size=761580 sha256=09cdd7a63877f63816b9f10f917e71b4097932c351e6c9155c7336eae79b28f8\n",
      "  Stored in directory: /Users/drumilved/Library/Caches/pip/wheels/76/44/74/b498c42be47b2406bd27994e16c5188e337c657025ab400c1c\n",
      "Successfully built scikit-surprise\n",
      "\u001b[33mDEPRECATION: pyodbc 4.0.0-unsupported has a non-standard version number. pip 24.0 will enforce this behaviour change. A possible replacement is to upgrade to a newer version of pyodbc or contact the author to suggest that they release a version with a conforming version number. Discussion can be found at https://github.com/pypa/pip/issues/12063\u001b[0m\u001b[33m\n",
      "\u001b[0mInstalling collected packages: scikit-surprise, surprise\n",
      "Successfully installed scikit-surprise-1.1.1 surprise-0.1\n"
     ]
    }
   ],
   "source": [
    "!pip install surprise"
   ]
  },
  {
   "cell_type": "code",
   "execution_count": 2,
   "metadata": {
    "colab": {},
    "colab_type": "code",
    "id": "G8QgQWPZ3kFu"
   },
   "outputs": [],
   "source": [
    "import pickle\n",
    "import os\n",
    "\n",
    "import pandas as pd\n",
    "\n",
    "from surprise import SVD, SVDpp\n",
    "from surprise import KNNBasic, KNNBaseline, BaselineOnly\n",
    "from surprise import Dataset                                                     \n",
    "from surprise import Reader                                                      \n",
    "from surprise import dump\n",
    "from surprise.accuracy import rmse"
   ]
  },
  {
   "cell_type": "code",
   "execution_count": 3,
   "metadata": {
    "colab": {},
    "colab_type": "code",
    "id": "Y3nN4GjS3sjT"
   },
   "outputs": [],
   "source": [
    "def convert_traintest_dataframe_forsurprise(training_dataframe, testing_dataframe):\n",
    "    reader = Reader(rating_scale=(0, 5))\n",
    "    trainset = Dataset.load_from_df(training_dataframe[['userId', 'movieId', 'rating']], reader)\n",
    "    testset = Dataset.load_from_df(testing_dataframe[['userId', 'movieId', 'rating']], reader)\n",
    "    trainset = trainset.construct_trainset(trainset.raw_ratings)\n",
    "    testset = testset.construct_testset(testset.raw_ratings)\n",
    "    return trainset, testset"
   ]
  },
  {
   "cell_type": "code",
   "execution_count": 4,
   "metadata": {
    "colab": {},
    "colab_type": "code",
    "id": "z6OJ9U-E3zQP"
   },
   "outputs": [],
   "source": [
    "file_path_train = 'training_data.csv'\n",
    "file_path_test = 'testing_data.csv'\n",
    "traindf = pd.read_csv(file_path_train)\n",
    "testdf = pd.read_csv(file_path_test)\n",
    "trainset, testset = convert_traintest_dataframe_forsurprise(traindf, testdf)"
   ]
  },
  {
   "cell_type": "code",
   "execution_count": 5,
   "metadata": {
    "colab": {
     "base_uri": "https://localhost:8080/",
     "height": 195
    },
    "colab_type": "code",
    "id": "-aF-xIYxX4aB",
    "outputId": "d1aa662c-301c-4d5f-cedf-23ed3984f02e"
   },
   "outputs": [
    {
     "data": {
      "text/html": [
       "<div>\n",
       "<style scoped>\n",
       "    .dataframe tbody tr th:only-of-type {\n",
       "        vertical-align: middle;\n",
       "    }\n",
       "\n",
       "    .dataframe tbody tr th {\n",
       "        vertical-align: top;\n",
       "    }\n",
       "\n",
       "    .dataframe thead th {\n",
       "        text-align: right;\n",
       "    }\n",
       "</style>\n",
       "<table border=\"1\" class=\"dataframe\">\n",
       "  <thead>\n",
       "    <tr style=\"text-align: right;\">\n",
       "      <th></th>\n",
       "      <th>userId</th>\n",
       "      <th>movieId</th>\n",
       "      <th>rating</th>\n",
       "      <th>timestamp</th>\n",
       "      <th>genres</th>\n",
       "      <th>tag</th>\n",
       "    </tr>\n",
       "  </thead>\n",
       "  <tbody>\n",
       "    <tr>\n",
       "      <th>0</th>\n",
       "      <td>1</td>\n",
       "      <td>47</td>\n",
       "      <td>5.0</td>\n",
       "      <td>964983815</td>\n",
       "      <td>['Mystery', 'Thriller']</td>\n",
       "      <td>[]</td>\n",
       "    </tr>\n",
       "    <tr>\n",
       "      <th>1</th>\n",
       "      <td>1</td>\n",
       "      <td>50</td>\n",
       "      <td>5.0</td>\n",
       "      <td>964982931</td>\n",
       "      <td>['Crime', 'Mystery', 'Thriller']</td>\n",
       "      <td>[]</td>\n",
       "    </tr>\n",
       "    <tr>\n",
       "      <th>2</th>\n",
       "      <td>1</td>\n",
       "      <td>70</td>\n",
       "      <td>3.0</td>\n",
       "      <td>964982400</td>\n",
       "      <td>['Action', 'Comedy', 'Horror', 'Thriller']</td>\n",
       "      <td>[]</td>\n",
       "    </tr>\n",
       "    <tr>\n",
       "      <th>3</th>\n",
       "      <td>1</td>\n",
       "      <td>101</td>\n",
       "      <td>5.0</td>\n",
       "      <td>964980868</td>\n",
       "      <td>['Adventure', 'Comedy', 'Crime', 'Romance']</td>\n",
       "      <td>[]</td>\n",
       "    </tr>\n",
       "    <tr>\n",
       "      <th>4</th>\n",
       "      <td>1</td>\n",
       "      <td>110</td>\n",
       "      <td>4.0</td>\n",
       "      <td>964982176</td>\n",
       "      <td>['Action', 'Drama', 'War']</td>\n",
       "      <td>[]</td>\n",
       "    </tr>\n",
       "  </tbody>\n",
       "</table>\n",
       "</div>"
      ],
      "text/plain": [
       "   userId  movieId  rating  timestamp  \\\n",
       "0       1       47     5.0  964983815   \n",
       "1       1       50     5.0  964982931   \n",
       "2       1       70     3.0  964982400   \n",
       "3       1      101     5.0  964980868   \n",
       "4       1      110     4.0  964982176   \n",
       "\n",
       "                                        genres tag  \n",
       "0                      ['Mystery', 'Thriller']  []  \n",
       "1             ['Crime', 'Mystery', 'Thriller']  []  \n",
       "2   ['Action', 'Comedy', 'Horror', 'Thriller']  []  \n",
       "3  ['Adventure', 'Comedy', 'Crime', 'Romance']  []  \n",
       "4                   ['Action', 'Drama', 'War']  []  "
      ]
     },
     "execution_count": 5,
     "metadata": {},
     "output_type": "execute_result"
    }
   ],
   "source": [
    "traindf.head()"
   ]
  },
  {
   "cell_type": "code",
   "execution_count": null,
   "metadata": {
    "colab": {
     "base_uri": "https://localhost:8080/",
     "height": 50
    },
    "colab_type": "code",
    "id": "TzdYPykH4DMR",
    "outputId": "91278275-9801-4593-f78c-3dc9ca7caf08"
   },
   "outputs": [],
   "source": [
    "algo_svd = SVD()     \n",
    "algo_svdpp = SVDpp()                                    \n",
    "algo_knn = KNNBasic()\n",
    "\n",
    "\n",
    "algo_svd.fit(trainset)                             \n",
    "predictions_svd = algo_svd.test(testset)\n",
    "\n",
    "algo_svdpp.fit(trainset)                             \n",
    "predictions_svdpp = algo_svdpp.test(testset)\n",
    "\n",
    "algo_knn.fit(trainset)\n",
    "predictions_knn = algo_knn.test(testset)\n",
    "\n",
    "# rmse(predictions_svd)\n",
    "# rmse(predictions_knn)                                                                           \n",
    "\n",
    "dump.dump('./dump_SVD', predictions_svd, algo_svd)\n",
    "dump.dump('./dump_SVDpp', predictions_svdpp, algo_svdpp)\n",
    "dump.dump('./dump_KNN', predictions_knn, algo_knn)"
   ]
  },
  {
   "cell_type": "code",
   "execution_count": null,
   "metadata": {
    "colab": {},
    "colab_type": "code",
    "id": "IWpBO-jw4gR4"
   },
   "outputs": [],
   "source": [
    "df_svd = pd.DataFrame(predictions_svd, columns=['uid', 'iid', 'rui', 'est', 'details']) \n",
    "df_svdpp = pd.DataFrame(predictions_svdpp, columns=['uid', 'iid', 'rui', 'est', 'details'])        \n",
    "df_knn = pd.DataFrame(predictions_knn, columns=['uid', 'iid', 'rui', 'est', 'details']) "
   ]
  },
  {
   "cell_type": "code",
   "execution_count": null,
   "metadata": {
    "colab": {
     "base_uri": "https://localhost:8080/",
     "height": 67
    },
    "colab_type": "code",
    "id": "5ytiPn_6Z4D5",
    "outputId": "c172233e-b73b-4226-faea-c9505e9c0b09"
   },
   "outputs": [],
   "source": [
    "sim_options = {'name': 'pearson_baseline',\n",
    "               'user_based': False  # compute  similarities between items\n",
    "               }\n",
    "# algo = KNNBaseline(sim_options=sim_options)\n",
    "algo_knnbaseline = KNNBaseline(sim_options=sim_options)\n",
    "algo_knnbaseline.fit(trainset)\n",
    "predictions_knnbaseline = algo_knnbaseline.test(testset)"
   ]
  },
  {
   "cell_type": "code",
   "execution_count": null,
   "metadata": {
    "colab": {},
    "colab_type": "code",
    "id": "-qpAZxicab7y"
   },
   "outputs": [],
   "source": [
    "df_knnbaseline = pd.DataFrame(predictions_knnbaseline, columns=['uid', 'iid', 'rui', 'est', 'details']) \n",
    "df_knnbaseline['err'] = abs(df_knnbaseline.est - df_knnbaseline.rui)\n",
    "df_knnbaseline['sqr_err'] = (df_knnbaseline.est - df_knnbaseline.rui)**2"
   ]
  },
  {
   "cell_type": "code",
   "execution_count": null,
   "metadata": {
    "colab": {},
    "colab_type": "code",
    "id": "yIlRty-X4z2T"
   },
   "outputs": [],
   "source": [
    "df_svd['err'] = abs(df_svd.est - df_svd.rui)\n",
    "df_svdpp['err'] = abs(df_svdpp.est - df_svdpp.rui)\n",
    "df_knn['err'] = abs(df_knn.est - df_knn.rui)"
   ]
  },
  {
   "cell_type": "code",
   "execution_count": null,
   "metadata": {
    "colab": {},
    "colab_type": "code",
    "id": "VdC0IyDxY4xB"
   },
   "outputs": [],
   "source": [
    "df_svd['sqr_err'] = (df_svd.est - df_svd.rui)**2\n",
    "df_svdpp['sqr_err'] = (df_svdpp.est - df_svdpp.rui)**2\n",
    "df_knn['sqr_err'] = (df_knn.est - df_knn.rui)**2"
   ]
  },
  {
   "cell_type": "code",
   "execution_count": null,
   "metadata": {
    "colab": {
     "base_uri": "https://localhost:8080/",
     "height": 34
    },
    "colab_type": "code",
    "id": "t4gOt7SHcVnO",
    "outputId": "21a9276e-f43b-4dfc-9afb-65987e0cd1f1"
   },
   "outputs": [],
   "source": [
    "algo_baselineonly = BaselineOnly()\n",
    "algo_baselineonly.fit(trainset)\n",
    "predictions_baselineonly = algo_baselineonly.test(testset)\n",
    "\n",
    "df_baselineonly = pd.DataFrame(predictions_baselineonly, columns=['uid', 'iid', 'rui', 'est', 'details']) \n",
    "df_baselineonly['err'] = abs(df_baselineonly.est - df_baselineonly.rui)\n",
    "df_baselineonly['sqr_err'] = (df_baselineonly.est - df_baselineonly.rui)**2\n",
    "df_baselineonly['Iu'] = df_baselineonly.uid.apply(get_Iu)"
   ]
  },
  {
   "cell_type": "code",
   "execution_count": null,
   "metadata": {
    "colab": {
     "base_uri": "https://localhost:8080/",
     "height": 67
    },
    "colab_type": "code",
    "id": "falRCQt3dYFC",
    "outputId": "f3e8404f-77c9-427e-c663-f9ddadd0fb11"
   },
   "outputs": [],
   "source": [
    "sim_options = {'name': 'pearson_baseline',\n",
    "               'user_based': True  # compute  similarities between items\n",
    "               }\n",
    "algo_knnbaseline_user = KNNBaseline(sim_options=sim_options)\n",
    "algo_knnbaseline_user.fit(trainset)\n",
    "predictions_knnbaseline_user = algo_knnbaseline_user.test(testset)\n",
    "\n",
    "df_knn_user = pd.DataFrame(predictions_knnbaseline_user, columns=['uid', 'iid', 'rui', 'est', 'details']) \n",
    "df_knn_user['err'] = abs(df_knn_user.est - df_knn_user.rui)\n",
    "df_knn_user['sqr_err'] = (df_knn_user.est - df_knn_user.rui)**2\n",
    "df_knn_user['Iu'] = df_knn_user.uid.apply(get_Iu)"
   ]
  },
  {
   "cell_type": "code",
   "execution_count": null,
   "metadata": {
    "colab": {
     "base_uri": "https://localhost:8080/",
     "height": 195
    },
    "colab_type": "code",
    "id": "SSoLuqrV65pK",
    "outputId": "897911ad-5086-4798-914e-58df7da6b068"
   },
   "outputs": [],
   "source": [
    "df_svd.head()"
   ]
  },
  {
   "cell_type": "code",
   "execution_count": null,
   "metadata": {
    "colab": {},
    "colab_type": "code",
    "id": "gyU3U3mLWG42"
   },
   "outputs": [],
   "source": [
    "content = pd.read_csv('content_based_genre_ratings.csv')"
   ]
  },
  {
   "cell_type": "code",
   "execution_count": null,
   "metadata": {
    "colab": {},
    "colab_type": "code",
    "id": "V9pCMloU45Sh"
   },
   "outputs": [],
   "source": [
    "def get_Iu(uid):\n",
    "    \"\"\"Return the number of items rated by given user\n",
    "    \n",
    "    Args:\n",
    "        uid: The raw id of the user.\n",
    "    Returns:\n",
    "        The number of items rated by the user.\n",
    "    \"\"\"\n",
    "    \n",
    "    try:\n",
    "        return traindf[traindf['userId'] == uid].shape[0]\n",
    "    except ValueError:  # user was not part of the trainset\n",
    "        return 0"
   ]
  },
  {
   "cell_type": "code",
   "execution_count": null,
   "metadata": {
    "colab": {},
    "colab_type": "code",
    "id": "Xaia-Iy2WPYY"
   },
   "outputs": [],
   "source": [
    "content['Iu'] = content.userId.apply(get_Iu)"
   ]
  },
  {
   "cell_type": "code",
   "execution_count": null,
   "metadata": {
    "colab": {},
    "colab_type": "code",
    "id": "8a_bM4hsWyHI"
   },
   "outputs": [],
   "source": [
    "content['err'] = abs(content.pred_rating - content.og_rating)\n",
    "content['sqr_err'] = (content.pred_rating - content.og_rating)**2\n",
    "# rmse = ((algo_predictions.og_rating - algo_predictions.pred_rating) ** 2).mean() ** .5\n",
    "# mae = (((algo_predictions.og_rating - algo_predictions.pred_rating) ** 2) ** .5).mean()\n"
   ]
  },
  {
   "cell_type": "code",
   "execution_count": null,
   "metadata": {
    "colab": {
     "base_uri": "https://localhost:8080/",
     "height": 50
    },
    "colab_type": "code",
    "id": "yobQqAZTWd_4",
    "outputId": "5c486dcc-0636-4452-b859-b51d6b2da9af"
   },
   "outputs": [],
   "source": [
    "print(\"Content based                 \",content[content.Iu < 18].err.mean())\n",
    "print(\"Content based                \",content[content.Iu < 18].sqr_err.mean()** .5)"
   ]
  },
  {
   "cell_type": "code",
   "execution_count": null,
   "metadata": {
    "colab": {},
    "colab_type": "code",
    "id": "wz1Pkbzd4-dl"
   },
   "outputs": [],
   "source": [
    "df_knn['Iu'] = df_knn.uid.apply(get_Iu)\n",
    "df_svd['Iu'] = df_svd.uid.apply(get_Iu)\n",
    "df_svdpp['Iu'] = df_svdpp.uid.apply(get_Iu)\n",
    "df_knnbaseline['Iu'] = df_knnbaseline.uid.apply(get_Iu)"
   ]
  },
  {
   "cell_type": "code",
   "execution_count": null,
   "metadata": {
    "colab": {
     "base_uri": "https://localhost:8080/",
     "height": 134
    },
    "colab_type": "code",
    "id": "q-VorHYTayVQ",
    "outputId": "bb83cb23-6ebd-4ba1-ec31-8a599d8dd4ec"
   },
   "outputs": [],
   "source": [
    "print(\"--------------------------MAE-----------------------\")\n",
    "print(\"KNN Basic                 \",df_knn[df_knn.Iu < 18].err.mean())\n",
    "print(\"SVD                       \", df_svd[df_svd.Iu < 18].err.mean())\n",
    "print(\"SVDpp                     \",  df_svdpp[df_svdpp.Iu < 18].err.mean())\n",
    "print(\"KNN Baseline (item-item)  \", df_knnbaseline[df_knnbaseline.Iu < 18].err.mean())\n",
    "print(\"BaselineOnly              \",df_baselineonly[df_baselineonly.Iu < 18].err.mean() )\n",
    "print(\"KNN Baseline (user-user)  \",df_knn_user[df_knn_user.Iu < 18].err.mean() )"
   ]
  },
  {
   "cell_type": "code",
   "execution_count": null,
   "metadata": {
    "colab": {
     "base_uri": "https://localhost:8080/",
     "height": 134
    },
    "colab_type": "code",
    "id": "nQOEO64Jf9BE",
    "outputId": "d2da200e-954a-44d4-89c2-890afc4b14e5"
   },
   "outputs": [],
   "source": [
    "print(\"--------------------------RMSE-----------------------\")\n",
    "print(\"KNN Basic                \",df_knn[df_knn.Iu < 18].sqr_err.mean()** .5)\n",
    "print(\"SVD                      \", df_svd[df_svd.Iu < 18].sqr_err.mean()** .5)\n",
    "print(\"SVDpp                    \",  df_svdpp[df_svdpp.Iu < 18].sqr_err.mean()** .5)\n",
    "print(\"KNN Baseline (item-item) \", df_knnbaseline[df_knnbaseline.Iu < 18].sqr_err.mean()** .5)\n",
    "print(\"BaselineOnly             \",df_baselineonly[df_baselineonly.Iu < 18].sqr_err.mean()** .5 )\n",
    "print(\"KNN Baseline (user-user) \",df_knn_user[df_knn_user.Iu < 18].sqr_err.mean()** .5)"
   ]
  },
  {
   "cell_type": "code",
   "execution_count": null,
   "metadata": {
    "colab": {
     "base_uri": "https://localhost:8080/",
     "height": 134
    },
    "colab_type": "code",
    "id": "xnzmsButgiyw",
    "outputId": "f326c366-38ea-45b8-9133-cf22dcb72358"
   },
   "outputs": [],
   "source": [
    "print(\"--------------------------MAE-----------------------\")\n",
    "print(\"KNN Basic                 \",df_knn[df_knn.Iu > 1000].err.mean())\n",
    "print(\"SVD                       \", df_svd[df_svd.Iu > 1000].err.mean())\n",
    "print(\"SVDpp                     \",  df_svdpp[df_svdpp.Iu > 1000].err.mean())\n",
    "print(\"KNN Baseline (item-item)  \", df_knnbaseline[df_knnbaseline.Iu > 1000].err.mean())\n",
    "print(\"BaselineOnly              \",df_baselineonly[df_baselineonly.Iu > 1000].err.mean() )\n",
    "print(\"KNN Baseline (user-user)  \",df_knn_user[df_knn_user.Iu > 1000].err.mean() )"
   ]
  },
  {
   "cell_type": "code",
   "execution_count": null,
   "metadata": {
    "colab": {
     "base_uri": "https://localhost:8080/",
     "height": 134
    },
    "colab_type": "code",
    "id": "K1CnsM3mg0wi",
    "outputId": "c79eaa77-b9a5-4d90-d470-9539c3af5858"
   },
   "outputs": [],
   "source": [
    "print(\"--------------------------RMSE-----------------------\")\n",
    "print(\"KNN Basic                \",df_knn[df_knn.Iu > 1000].sqr_err.mean()** .5)\n",
    "print(\"SVD                      \", df_svd[df_svd.Iu > 1000].sqr_err.mean()** .5)\n",
    "print(\"SVDpp                    \",  df_svdpp[df_svdpp.Iu > 1000].sqr_err.mean()** .5)\n",
    "print(\"KNN Baseline (item-item) \", df_knnbaseline[df_knnbaseline.Iu > 1000].sqr_err.mean()** .5)\n",
    "print(\"BaselineOnly             \",df_baselineonly[df_baselineonly.Iu > 1000].sqr_err.mean()** .5 )\n",
    "print(\"KNN Baseline (user-user) \",df_knn_user[df_knn_user.Iu > 1000].sqr_err.mean()** .5)"
   ]
  },
  {
   "cell_type": "code",
   "execution_count": null,
   "metadata": {
    "colab": {
     "base_uri": "https://localhost:8080/",
     "height": 34
    },
    "colab_type": "code",
    "id": "7aWKXObN6uhT",
    "outputId": "2a40f35d-3055-43aa-d508-be83732ad842"
   },
   "outputs": [],
   "source": [
    "iid_df = traindf.groupby(['userId'],as_index=False).movieId.count()\n",
    "iid_df.movieId.max()"
   ]
  }
 ],
 "metadata": {
  "colab": {
   "collapsed_sections": [],
   "name": "cold_start_analysis.ipynb",
   "provenance": []
  },
  "kernelspec": {
   "display_name": "Python 3",
   "language": "python",
   "name": "python3"
  },
  "language_info": {
   "codemirror_mode": {
    "name": "ipython",
    "version": 3
   },
   "file_extension": ".py",
   "mimetype": "text/x-python",
   "name": "python",
   "nbconvert_exporter": "python",
   "pygments_lexer": "ipython3",
   "version": "3.7.10"
  }
 },
 "nbformat": 4,
 "nbformat_minor": 1
}
