{
 "cells": [
  {
   "cell_type": "markdown",
   "metadata": {
    "colab_type": "text",
    "id": "P20PDvjKLGAa"
   },
   "source": [
    "This model combines the recommendations generated from content-based, collaborative filtering and SVD model. The hybrid model overcomes the shortcomings of individual models and improves the diversity of the recommendations"
   ]
  },
  {
   "cell_type": "code",
   "execution_count": 1,
   "metadata": {
    "colab": {},
    "colab_type": "code",
    "id": "25etssQM6opn"
   },
   "outputs": [
    {
     "name": "stdout",
     "output_type": "stream",
     "text": [
      "Requirement already satisfied: surprise in /Users/drumilved/opt/anaconda3/lib/python3.7/site-packages (0.1)\n",
      "Requirement already satisfied: scikit-surprise in /Users/drumilved/opt/anaconda3/lib/python3.7/site-packages (from surprise) (1.1.1)\n",
      "Requirement already satisfied: joblib>=0.11 in /Users/drumilved/opt/anaconda3/lib/python3.7/site-packages (from scikit-surprise->surprise) (1.0.1)\n",
      "Requirement already satisfied: numpy>=1.11.2 in /Users/drumilved/opt/anaconda3/lib/python3.7/site-packages (from scikit-surprise->surprise) (1.20.1)\n",
      "Requirement already satisfied: scipy>=1.0.0 in /Users/drumilved/opt/anaconda3/lib/python3.7/site-packages (from scikit-surprise->surprise) (1.6.2)\n",
      "Requirement already satisfied: six>=1.10.0 in /Users/drumilved/opt/anaconda3/lib/python3.7/site-packages (from scikit-surprise->surprise) (1.16.0)\n",
      "\u001b[33mDEPRECATION: pyodbc 4.0.0-unsupported has a non-standard version number. pip 24.0 will enforce this behaviour change. A possible replacement is to upgrade to a newer version of pyodbc or contact the author to suggest that they release a version with a conforming version number. Discussion can be found at https://github.com/pypa/pip/issues/12063\u001b[0m\u001b[33m\n",
      "\u001b[0m"
     ]
    }
   ],
   "source": [
    "!pip install surprise"
   ]
  },
  {
   "cell_type": "code",
   "execution_count": 2,
   "metadata": {
    "colab": {},
    "colab_type": "code",
    "id": "mIOtqgFOLKMq"
   },
   "outputs": [],
   "source": [
    "import pandas as pd\n",
    "import numpy as np"
   ]
  },
  {
   "cell_type": "code",
   "execution_count": 3,
   "metadata": {
    "colab": {},
    "colab_type": "code",
    "id": "thMttCZAJj3W"
   },
   "outputs": [],
   "source": [
    "from surprise import SVD, BaselineOnly, SVDpp, NMF, SlopeOne, CoClustering, Reader\n",
    "from surprise import Dataset\n",
    "from surprise.model_selection import cross_validate\n",
    "from surprise.prediction_algorithms import KNNBaseline, KNNBasic, KNNWithMeans, KNNWithZScore\n",
    "from surprise import accuracy\n",
    "from surprise.model_selection import train_test_split\n",
    "from surprise import dump"
   ]
  },
  {
   "cell_type": "code",
   "execution_count": 4,
   "metadata": {
    "colab": {},
    "colab_type": "code",
    "id": "F_JgqL5bK_F8"
   },
   "outputs": [],
   "source": [
    "from sklearn.feature_extraction.text import TfidfVectorizer, CountVectorizer\n",
    "from sklearn.metrics.pairwise import linear_kernel, cosine_similarity"
   ]
  },
  {
   "cell_type": "code",
   "execution_count": 5,
   "metadata": {
    "colab": {},
    "colab_type": "code",
    "id": "29jYY03OMPDb"
   },
   "outputs": [],
   "source": [
    "def convert_traintest_dataframe_forsurprise(training_dataframe, testing_dataframe):\n",
    "    reader = Reader(rating_scale=(0, 5))\n",
    "    trainset = Dataset.load_from_df(training_dataframe[['userId', 'movieId', 'rating']], reader)\n",
    "    testset = Dataset.load_from_df(testing_dataframe[['userId', 'movieId', 'rating']], reader)\n",
    "    trainset = trainset.construct_trainset(trainset.raw_ratings)\n",
    "    testset = testset.construct_testset(testset.raw_ratings)\n",
    "    return trainset, testset"
   ]
  },
  {
   "cell_type": "code",
   "execution_count": 6,
   "metadata": {
    "colab": {},
    "colab_type": "code",
    "id": "8CraNAQ6QnQ3"
   },
   "outputs": [],
   "source": [
    "file_path_train = 'training_data.csv'\n",
    "file_path_test = 'testing_data.csv'\n",
    "traindf = pd.read_csv(file_path_train)\n",
    "testdf = pd.read_csv(file_path_test)\n",
    "trainset, testset = convert_traintest_dataframe_forsurprise(traindf, testdf)"
   ]
  },
  {
   "cell_type": "code",
   "execution_count": 7,
   "metadata": {
    "colab": {
     "base_uri": "https://localhost:8080/",
     "height": 195
    },
    "colab_type": "code",
    "id": "mRRpne42gSp5",
    "outputId": "1e96782a-867d-4e9a-9409-5fc485dad2ac"
   },
   "outputs": [
    {
     "data": {
      "text/html": [
       "<div>\n",
       "<style scoped>\n",
       "    .dataframe tbody tr th:only-of-type {\n",
       "        vertical-align: middle;\n",
       "    }\n",
       "\n",
       "    .dataframe tbody tr th {\n",
       "        vertical-align: top;\n",
       "    }\n",
       "\n",
       "    .dataframe thead th {\n",
       "        text-align: right;\n",
       "    }\n",
       "</style>\n",
       "<table border=\"1\" class=\"dataframe\">\n",
       "  <thead>\n",
       "    <tr style=\"text-align: right;\">\n",
       "      <th></th>\n",
       "      <th>userId</th>\n",
       "      <th>movieId</th>\n",
       "      <th>rating</th>\n",
       "      <th>timestamp</th>\n",
       "      <th>genres</th>\n",
       "      <th>tag</th>\n",
       "    </tr>\n",
       "  </thead>\n",
       "  <tbody>\n",
       "    <tr>\n",
       "      <th>0</th>\n",
       "      <td>1</td>\n",
       "      <td>1</td>\n",
       "      <td>4.0</td>\n",
       "      <td>964982703</td>\n",
       "      <td>['Adventure', 'Animation', 'Children', 'Comedy...</td>\n",
       "      <td>[]</td>\n",
       "    </tr>\n",
       "    <tr>\n",
       "      <th>1</th>\n",
       "      <td>1</td>\n",
       "      <td>3</td>\n",
       "      <td>4.0</td>\n",
       "      <td>964981247</td>\n",
       "      <td>['Comedy', 'Romance']</td>\n",
       "      <td>[]</td>\n",
       "    </tr>\n",
       "    <tr>\n",
       "      <th>2</th>\n",
       "      <td>1</td>\n",
       "      <td>6</td>\n",
       "      <td>4.0</td>\n",
       "      <td>964982224</td>\n",
       "      <td>['Action', 'Crime', 'Thriller']</td>\n",
       "      <td>[]</td>\n",
       "    </tr>\n",
       "    <tr>\n",
       "      <th>3</th>\n",
       "      <td>1</td>\n",
       "      <td>163</td>\n",
       "      <td>5.0</td>\n",
       "      <td>964983650</td>\n",
       "      <td>['Action', 'Romance', 'Western']</td>\n",
       "      <td>[]</td>\n",
       "    </tr>\n",
       "    <tr>\n",
       "      <th>4</th>\n",
       "      <td>1</td>\n",
       "      <td>316</td>\n",
       "      <td>3.0</td>\n",
       "      <td>964982310</td>\n",
       "      <td>['Action', 'Adventure', 'Sci-Fi']</td>\n",
       "      <td>[]</td>\n",
       "    </tr>\n",
       "  </tbody>\n",
       "</table>\n",
       "</div>"
      ],
      "text/plain": [
       "   userId  movieId  rating  timestamp  \\\n",
       "0       1        1     4.0  964982703   \n",
       "1       1        3     4.0  964981247   \n",
       "2       1        6     4.0  964982224   \n",
       "3       1      163     5.0  964983650   \n",
       "4       1      316     3.0  964982310   \n",
       "\n",
       "                                              genres tag  \n",
       "0  ['Adventure', 'Animation', 'Children', 'Comedy...  []  \n",
       "1                              ['Comedy', 'Romance']  []  \n",
       "2                    ['Action', 'Crime', 'Thriller']  []  \n",
       "3                   ['Action', 'Romance', 'Western']  []  \n",
       "4                  ['Action', 'Adventure', 'Sci-Fi']  []  "
      ]
     },
     "execution_count": 7,
     "metadata": {},
     "output_type": "execute_result"
    }
   ],
   "source": [
    "testdf.head()"
   ]
  },
  {
   "cell_type": "markdown",
   "metadata": {
    "colab_type": "text",
    "id": "s6kyI5Vib1SM"
   },
   "source": [
    "### CF and Latent Factor models:"
   ]
  },
  {
   "cell_type": "code",
   "execution_count": 8,
   "metadata": {
    "colab": {},
    "colab_type": "code",
    "id": "YL62GPmxV1cq",
    "outputId": "b18b8fdc-929e-4a84-ff04-aa858da10439"
   },
   "outputs": [
    {
     "name": "stdout",
     "output_type": "stream",
     "text": [
      "Estimating biases using als...\n",
      "Computing the cosine similarity matrix...\n",
      "Done computing similarity matrix.\n",
      "RMSE: 0.8962\n",
      "MAE:  0.6935\n",
      "Done!\n"
     ]
    }
   ],
   "source": [
    "# basic collaborative filtering algorithm taking into account a baseline rating.\n",
    "sim_options = {'name': 'cosine',\n",
    "               'user_based': False  # compute  similarities between items\n",
    "               }\n",
    "knnbaseline_algo = KNNBaseline(sim_options=sim_options)\n",
    "\n",
    "knnbaseline_algo.fit(trainset)\n",
    "knnbaseline_predictions = knnbaseline_algo.test(testset)\n",
    "\n",
    "file_name = 'KnnBaseline_model'\n",
    "dump.dump(file_name, algo=knnbaseline_predictions)\n",
    "# _, loaded_algo = dump.load(file_name)\n",
    "\n",
    "accuracy.rmse(knnbaseline_predictions)\n",
    "accuracy.mae(knnbaseline_predictions)\n",
    "print(\"Done!\")"
   ]
  },
  {
   "cell_type": "code",
   "execution_count": 9,
   "metadata": {
    "colab": {},
    "colab_type": "code",
    "id": "LYhl8nM6bjdi",
    "outputId": "ad2f6c93-4c10-47eb-953c-76901dadb50c"
   },
   "outputs": [
    {
     "name": "stdout",
     "output_type": "stream",
     "text": [
      "RMSE: 0.8755\n",
      "MAE:  0.6728\n",
      "Done!\n"
     ]
    }
   ],
   "source": [
    "svd_algo = SVD()\n",
    "\n",
    "svd_algo.fit(trainset)\n",
    "svd_predictions = svd_algo.test(testset)\n",
    "\n",
    "file_name = 'svd_model'\n",
    "dump.dump(file_name, algo=svd_algo)\n",
    "# _, loaded_algo = dump.load(file_name)\n",
    "\n",
    "accuracy.rmse(svd_predictions)\n",
    "accuracy.mae(svd_predictions)\n",
    "print(\"Done!\")"
   ]
  },
  {
   "cell_type": "code",
   "execution_count": 10,
   "metadata": {
    "colab": {},
    "colab_type": "code",
    "id": "9_CuU86dbsSw",
    "outputId": "e74c5230-44f9-4096-e3b5-7c563be61c84"
   },
   "outputs": [
    {
     "name": "stdout",
     "output_type": "stream",
     "text": [
      "RMSE: 0.8652\n",
      "MAE:  0.6640\n",
      "Done!\n"
     ]
    }
   ],
   "source": [
    "svdpp_algo = SVDpp()\n",
    "\n",
    "svdpp_algo.fit(trainset)\n",
    "svdpp_predictions = svdpp_algo.test(testset)\n",
    "\n",
    "file_name = 'svd_model'\n",
    "dump.dump(file_name, algo=svdpp_algo)\n",
    "# _, loaded_algo = dump.load(file_name)\n",
    "\n",
    "accuracy.rmse(svdpp_predictions)\n",
    "accuracy.mae(svdpp_predictions)\n",
    "print(\"Done!\")"
   ]
  },
  {
   "cell_type": "markdown",
   "metadata": {
    "colab_type": "text",
    "id": "KLw7wsbAc7be"
   },
   "source": [
    "##### Movie Similarity model"
   ]
  },
  {
   "cell_type": "code",
   "execution_count": 39,
   "metadata": {
    "colab": {},
    "colab_type": "code",
    "id": "nqNVwdyuc9_7"
   },
   "outputs": [],
   "source": [
    "movies = pd.read_csv(\"tmdb_movies.csv\")"
   ]
  },
  {
   "cell_type": "code",
   "execution_count": 40,
   "metadata": {
    "colab": {},
    "colab_type": "code",
    "id": "2rSna44FtxMR"
   },
   "outputs": [],
   "source": [
    "genre_to_idx = {'Adventure': 0,\n",
    " 'Animation': 1,\n",
    " 'Children': 2,\n",
    " 'Comedy': 3,\n",
    " 'Fantasy': 4,\n",
    " 'Romance': 5,\n",
    " 'Drama': 6,\n",
    " 'Action': 7,\n",
    " 'Crime': 8,\n",
    " 'Thriller': 9,\n",
    " 'Horror': 10,\n",
    " 'Mystery': 11,\n",
    " 'Sci-Fi': 12,\n",
    " 'War': 13,\n",
    " 'Musical': 14,\n",
    " 'Documentary': 15,\n",
    " 'IMAX': 16,\n",
    " 'Western': 17,\n",
    " 'Film-Noir': 18,\n",
    " '(no genres listed)': 19}"
   ]
  },
  {
   "cell_type": "code",
   "execution_count": 41,
   "metadata": {
    "colab": {},
    "colab_type": "code",
    "id": "v0Bcc6CMK_GU"
   },
   "outputs": [],
   "source": [
    "idx_to_genre = {0: 'Adventure',\n",
    " 1: 'Animation',\n",
    " 2: 'Children',\n",
    " 3: 'Comedy',\n",
    " 4: 'Fantasy',\n",
    " 5: 'Romance',\n",
    " 6: 'Drama',\n",
    " 7: 'Action',\n",
    " 8: 'Crime',\n",
    " 9: 'Thriller',\n",
    " 10: 'Horror',\n",
    " 11: 'Mystery',\n",
    " 12: 'Sci-Fi',\n",
    " 13: 'War',\n",
    " 14: 'Musical',\n",
    " 15: 'Documentary',\n",
    " 16: 'IMAX',\n",
    " 17: 'Western',\n",
    " 18: 'Film-Noir',\n",
    " 19: '(no genres listed)'}"
   ]
  },
  {
   "cell_type": "code",
   "execution_count": 42,
   "metadata": {
    "colab": {},
    "colab_type": "code",
    "id": "21VUn6yxK_GW"
   },
   "outputs": [],
   "source": [
    "movies['tagline'] = movies['tagline'].fillna('')\n",
    "movies['description_genre'] = movies['overview'] + movies['tagline'] + 2*movies['genres']\n",
    "movies['description_genre'] = movies['description_genre'].fillna('')"
   ]
  },
  {
   "cell_type": "code",
   "execution_count": 43,
   "metadata": {
    "colab": {},
    "colab_type": "code",
    "id": "hucL4jXpK_GY",
    "scrolled": true
   },
   "outputs": [],
   "source": [
    "tf_new = TfidfVectorizer(analyzer='word', ngram_range=(1, 2), min_df=0, stop_words='english')\n",
    "tfidf_matrix_new = tf_new.fit_transform(movies['description_genre'])"
   ]
  },
  {
   "cell_type": "code",
   "execution_count": 44,
   "metadata": {
    "colab": {},
    "colab_type": "code",
    "id": "P4TCxmlPK_Ga"
   },
   "outputs": [],
   "source": [
    "cosine_sim_new = linear_kernel(tfidf_matrix_new, tfidf_matrix_new)"
   ]
  },
  {
   "cell_type": "code",
   "execution_count": 45,
   "metadata": {
    "colab": {},
    "colab_type": "code",
    "id": "fnOI4bBPK_Gc",
    "outputId": "f1a0fa6a-66ad-4dd1-c6ad-ca7a9e630b87"
   },
   "outputs": [
    {
     "data": {
      "text/plain": [
       "title\n",
       "Avatar                                      0\n",
       "Pirates of the Caribbean: At World's End    1\n",
       "dtype: int64"
      ]
     },
     "execution_count": 45,
     "metadata": {},
     "output_type": "execute_result"
    }
   ],
   "source": [
    "movies = movies.reset_index()\n",
    "titles = movies['title']\n",
    "indices = pd.Series(movies.index, index=movies['title'])\n",
    "indices.head(2)"
   ]
  },
  {
   "cell_type": "code",
   "execution_count": 46,
   "metadata": {
    "colab": {},
    "colab_type": "code",
    "id": "6W0GGFCrK_Gd"
   },
   "outputs": [],
   "source": [
    "def get_recommendations_new(title):\n",
    "    idx = indices[title]\n",
    "    if type(idx) != np.int64:\n",
    "        if len(idx)>1:\n",
    "            print(\"ALERT: Multiple values\")\n",
    "            idx = idx[0]\n",
    "    sim_scores = list(enumerate(cosine_sim_new[idx]))\n",
    "    sim_scores = sorted(sim_scores, key=lambda x: x[1], reverse=True)\n",
    "    sim_scores = sim_scores[1:11]\n",
    "    movie_indices = [i[0] for i in sim_scores]\n",
    "    return movies['movieId'].iloc[movie_indices]"
   ]
  },
  {
   "cell_type": "markdown",
   "metadata": {
    "colab_type": "text",
    "id": "9s7dEevLc_7y"
   },
   "source": [
    "##### Popularity model"
   ]
  },
  {
   "cell_type": "code",
   "execution_count": 47,
   "metadata": {
    "colab": {},
    "colab_type": "code",
    "id": "DvRGA0r5qbXg"
   },
   "outputs": [],
   "source": [
    "def genre_based_popularity(genre):\n",
    "    mask = movies.genres.apply(lambda x: genre in x)\n",
    "    filtered_movie = movies[mask]\n",
    "    filtered_movie = filtered_movie.sort_values(by='popularity', ascending=False)\n",
    "#     filtered_movie = filtered_movie.sort_values(by='wr', ascending=False)\n",
    "    return filtered_movie['movieId'].head(10).values.tolist() \n",
    "\n",
    "# genre_based_popularity('Animation')[['title', 'popularity']].head(25)"
   ]
  },
  {
   "cell_type": "code",
   "execution_count": 48,
   "metadata": {
    "colab": {},
    "colab_type": "code",
    "id": "tvDhVPC1rhqq",
    "scrolled": true
   },
   "outputs": [],
   "source": [
    "user_info = pd.read_csv('user_info.csv')"
   ]
  },
  {
   "cell_type": "code",
   "execution_count": 49,
   "metadata": {
    "colab": {},
    "colab_type": "code",
    "id": "R0GpH8fUK_Gk"
   },
   "outputs": [],
   "source": [
    "user_info['user_vector'] = user_info['user_vector'].apply(lambda x: x.replace('[', ' ').replace(']', ' ').strip().split())\n",
    "user_info['user_vector'] = user_info['user_vector'].apply(lambda x: np.asarray(x).astype(float))\n"
   ]
  },
  {
   "cell_type": "code",
   "execution_count": 50,
   "metadata": {
    "colab": {},
    "colab_type": "code",
    "id": "ttzhKVtNrqdZ"
   },
   "outputs": [],
   "source": [
    "def user_top_genre(userId):\n",
    "    user_vec = user_info['user_vector'][user_info['userId'] == userId].values[0].copy()\n",
    "    print(\"User Vector: \", user_vec)\n",
    "    top_genre_indices = np.flip(np.argsort(user_vec))\n",
    "    genre_list = []\n",
    "    for i in top_genre_indices[:3]:\n",
    "        genre_list.append(idx_to_genre[i])\n",
    "    return genre_list"
   ]
  },
  {
   "cell_type": "code",
   "execution_count": 51,
   "metadata": {
    "colab": {},
    "colab_type": "code",
    "id": "1jc3uWHRK_Go",
    "outputId": "45c629dd-5cfe-41bd-adb0-a4205ae73ab3"
   },
   "outputs": [
    {
     "name": "stdout",
     "output_type": "stream",
     "text": [
      "User Vector:  [4.40298507 4.66666667 4.48571429 4.265625   4.26470588 4.3\n",
      " 4.52459016 4.30434783 4.32432432 4.15555556 3.30769231 4.0625\n",
      " 4.2        4.55       4.64705882 0.         0.         4.\n",
      " 5.         0.        ]\n"
     ]
    },
    {
     "data": {
      "text/plain": [
       "['Film-Noir', 'Animation', 'Musical']"
      ]
     },
     "execution_count": 51,
     "metadata": {},
     "output_type": "execute_result"
    }
   ],
   "source": [
    "user_top_genre(1)"
   ]
  },
  {
   "cell_type": "markdown",
   "metadata": {
    "colab_type": "text",
    "id": "MVMftu50dFrE"
   },
   "source": [
    "##### Hybrid model"
   ]
  },
  {
   "cell_type": "code",
   "execution_count": 62,
   "metadata": {
    "colab": {},
    "colab_type": "code",
    "id": "gXcnBZNned4e"
   },
   "outputs": [],
   "source": [
    "knn_baseline = dump.load('dump_KNN')\n",
    "svdpp = dump.load('dump_SVDpp') "
   ]
  },
  {
   "cell_type": "code",
   "execution_count": 63,
   "metadata": {
    "colab": {},
    "colab_type": "code",
    "id": "tcerU3NFgpy1"
   },
   "outputs": [],
   "source": [
    "# List of users in testing data:\n",
    "user_list = testdf['userId'].unique()"
   ]
  },
  {
   "cell_type": "code",
   "execution_count": 64,
   "metadata": {
    "colab": {
     "base_uri": "https://localhost:8080/",
     "height": 166
    },
    "colab_type": "code",
    "id": "gRY48Y-uiwGv",
    "outputId": "35b1d87c-8479-4e92-c701-dfa7aadab70a"
   },
   "outputs": [
    {
     "data": {
      "text/html": [
       "<div>\n",
       "<style scoped>\n",
       "    .dataframe tbody tr th:only-of-type {\n",
       "        vertical-align: middle;\n",
       "    }\n",
       "\n",
       "    .dataframe tbody tr th {\n",
       "        vertical-align: top;\n",
       "    }\n",
       "\n",
       "    .dataframe thead th {\n",
       "        text-align: right;\n",
       "    }\n",
       "</style>\n",
       "<table border=\"1\" class=\"dataframe\">\n",
       "  <thead>\n",
       "    <tr style=\"text-align: right;\">\n",
       "      <th></th>\n",
       "      <th>userId</th>\n",
       "      <th>movieId</th>\n",
       "      <th>rating</th>\n",
       "      <th>timestamp</th>\n",
       "      <th>genres</th>\n",
       "      <th>tag</th>\n",
       "    </tr>\n",
       "  </thead>\n",
       "  <tbody>\n",
       "    <tr>\n",
       "      <th>1745</th>\n",
       "      <td>60</td>\n",
       "      <td>48</td>\n",
       "      <td>3.0</td>\n",
       "      <td>1393541734</td>\n",
       "      <td>['Animation', 'Children', 'Drama', 'Musical', ...</td>\n",
       "      <td>[]</td>\n",
       "    </tr>\n",
       "    <tr>\n",
       "      <th>1746</th>\n",
       "      <td>60</td>\n",
       "      <td>362</td>\n",
       "      <td>4.0</td>\n",
       "      <td>1393541920</td>\n",
       "      <td>['Adventure', 'Children', 'Romance']</td>\n",
       "      <td>[]</td>\n",
       "    </tr>\n",
       "    <tr>\n",
       "      <th>1747</th>\n",
       "      <td>60</td>\n",
       "      <td>805</td>\n",
       "      <td>4.0</td>\n",
       "      <td>1393541754</td>\n",
       "      <td>['Drama', 'Thriller']</td>\n",
       "      <td>[]</td>\n",
       "    </tr>\n",
       "    <tr>\n",
       "      <th>1748</th>\n",
       "      <td>60</td>\n",
       "      <td>2150</td>\n",
       "      <td>4.0</td>\n",
       "      <td>1393541897</td>\n",
       "      <td>['Adventure', 'Comedy']</td>\n",
       "      <td>[]</td>\n",
       "    </tr>\n",
       "  </tbody>\n",
       "</table>\n",
       "</div>"
      ],
      "text/plain": [
       "      userId  movieId  rating   timestamp  \\\n",
       "1745      60       48     3.0  1393541734   \n",
       "1746      60      362     4.0  1393541920   \n",
       "1747      60      805     4.0  1393541754   \n",
       "1748      60     2150     4.0  1393541897   \n",
       "\n",
       "                                                 genres tag  \n",
       "1745  ['Animation', 'Children', 'Drama', 'Musical', ...  []  \n",
       "1746               ['Adventure', 'Children', 'Romance']  []  \n",
       "1747                              ['Drama', 'Thriller']  []  \n",
       "1748                            ['Adventure', 'Comedy']  []  "
      ]
     },
     "execution_count": 64,
     "metadata": {},
     "output_type": "execute_result"
    }
   ],
   "source": [
    "# type(testdf['userId'][0])\n",
    "test_movies = testdf[testdf['userId'] == 60]\n",
    "test_movies.head()"
   ]
  },
  {
   "cell_type": "code",
   "execution_count": 65,
   "metadata": {
    "colab": {},
    "colab_type": "code",
    "id": "nh3JJEIKfnkM"
   },
   "outputs": [],
   "source": [
    "# Combined model predicion on testing data, using top movies to generate more movies based on movie similarity and popularity\n",
    "\n",
    "def hybrid(userId):\n",
    "    user_movies = testdf[testdf['userId'] == userId]\n",
    "    user_movies['est'] = user_movies['movieId'].apply(lambda x: 0.6*knnbaseline_algo.predict(userId,x).est + 0.4*svdpp_algo.predict(userId, x).est)    \n",
    "    user_movies = user_movies.sort_values(by ='est', ascending=False).head(4)\n",
    "    user_movies['Model'] = 'SVD + CF'\n",
    "#     user_movies = user_movies['movieId'].values.tolist()\n",
    "#     print(\"User liked movies list: \", user_movies)\n",
    "    \n",
    "    recommend_list = user_movies[['movieId', 'est', 'Model']]\n",
    "    print(recommend_list.head())\n",
    "\n",
    "#     top_movie = user_movies['movieId'].iloc[0]\n",
    "#     print(\"Top movie id\", top_movie)\n",
    "#     top_movie_title = movies['title'][movies['movieId'] == top_movie].values[0]\n",
    "#     print(\"Top movie title\", top_movie_title)\n",
    "\n",
    "    \n",
    "    movie_list = recommend_list['movieId'].values.tolist()\n",
    "    print(movie_list)\n",
    "    sim_movies_list = []\n",
    "    for movie_id in movie_list:\n",
    "        # Call content based \n",
    "        movie_title = movies['title'][movies['movieId'] == movie_id].values[0]\n",
    "        sim_movies = get_recommendations_new(movie_title)\n",
    "#         print(sim_movies.values.tolist())\n",
    "        sim_movies_list.extend(sim_movies)\n",
    "    \n",
    "    \n",
    "    # Compute ratings for the popular movies\n",
    "    for movie_id in sim_movies_list:\n",
    "        pred_rating = 0.6*knnbaseline_algo.predict(userId, movie_id).est + 0.4*svdpp_algo.predict(userId, movie_id).est\n",
    "        row_df = pd.DataFrame([[movie_id, pred_rating, 'Movie similarity']], columns=['movieId', 'est','Model'])\n",
    "        recommend_list = pd.concat([recommend_list, row_df], ignore_index=True)\n",
    "    \n",
    "    # Popular based movies\n",
    "    top_genre_list = user_top_genre(userId)\n",
    "    print(\"User top genre list: \", top_genre_list)\n",
    "    \n",
    "    popular_movies = []\n",
    "    for top_genre in top_genre_list:\n",
    "        popular_movies.extend(genre_based_popularity(top_genre))\n",
    "    print(\"Final list: \", popular_movies)\n",
    "    \n",
    "    # Compute ratings for the popular movies\n",
    "    for movie_id in popular_movies:\n",
    "        pred_rating = 0.6*knnbaseline_algo.predict(userId, movie_id).est + 0.4*svdpp_algo.predict(userId, movie_id).est\n",
    "        row_df = pd.DataFrame([[movie_id, pred_rating, 'Popularity']], columns=['movieId', 'est','Model'])\n",
    "        recommend_list = pd.concat([recommend_list, row_df], ignore_index=True)\n",
    "    recommend_list = recommend_list.drop_duplicates(subset=['movieId'])\n",
    "    train_movie_list = traindf[traindf['userId']==userId]['movieId'].values.tolist()\n",
    "    \n",
    "    # Remove movies in training for this user\n",
    "    mask = recommend_list.movieId.apply(lambda x: x not in train_movie_list)\n",
    "    recommend_list = recommend_list[mask]\n",
    "    \n",
    "    return recommend_list"
   ]
  },
  {
   "cell_type": "code",
   "execution_count": 55,
   "metadata": {
    "colab": {},
    "colab_type": "code",
    "id": "ZDeKwXu3K_Gy",
    "outputId": "577b321d-593a-4450-a42f-afa244789b1c"
   },
   "outputs": [
    {
     "data": {
      "text/html": [
       "<div>\n",
       "<style scoped>\n",
       "    .dataframe tbody tr th:only-of-type {\n",
       "        vertical-align: middle;\n",
       "    }\n",
       "\n",
       "    .dataframe tbody tr th {\n",
       "        vertical-align: top;\n",
       "    }\n",
       "\n",
       "    .dataframe thead th {\n",
       "        text-align: right;\n",
       "    }\n",
       "</style>\n",
       "<table border=\"1\" class=\"dataframe\">\n",
       "  <thead>\n",
       "    <tr style=\"text-align: right;\">\n",
       "      <th></th>\n",
       "      <th>userId</th>\n",
       "      <th>movieId</th>\n",
       "      <th>rating</th>\n",
       "      <th>timestamp</th>\n",
       "      <th>genres</th>\n",
       "      <th>tag</th>\n",
       "    </tr>\n",
       "  </thead>\n",
       "  <tbody>\n",
       "    <tr>\n",
       "      <th>66066</th>\n",
       "      <td>524</td>\n",
       "      <td>1200</td>\n",
       "      <td>5.0</td>\n",
       "      <td>851609623</td>\n",
       "      <td>['Action', 'Adventure', 'Horror', 'Sci-Fi']</td>\n",
       "      <td>[]</td>\n",
       "    </tr>\n",
       "    <tr>\n",
       "      <th>66073</th>\n",
       "      <td>524</td>\n",
       "      <td>1233</td>\n",
       "      <td>5.0</td>\n",
       "      <td>851609788</td>\n",
       "      <td>['Action', 'Drama', 'War']</td>\n",
       "      <td>[]</td>\n",
       "    </tr>\n",
       "    <tr>\n",
       "      <th>66032</th>\n",
       "      <td>524</td>\n",
       "      <td>541</td>\n",
       "      <td>5.0</td>\n",
       "      <td>851609310</td>\n",
       "      <td>['Action', 'Sci-Fi', 'Thriller']</td>\n",
       "      <td>[]</td>\n",
       "    </tr>\n",
       "    <tr>\n",
       "      <th>66021</th>\n",
       "      <td>524</td>\n",
       "      <td>377</td>\n",
       "      <td>5.0</td>\n",
       "      <td>851608745</td>\n",
       "      <td>['Action', 'Romance', 'Thriller']</td>\n",
       "      <td>[]</td>\n",
       "    </tr>\n",
       "    <tr>\n",
       "      <th>66039</th>\n",
       "      <td>524</td>\n",
       "      <td>589</td>\n",
       "      <td>5.0</td>\n",
       "      <td>851608875</td>\n",
       "      <td>['Action', 'Sci-Fi']</td>\n",
       "      <td>[]</td>\n",
       "    </tr>\n",
       "    <tr>\n",
       "      <th>...</th>\n",
       "      <td>...</td>\n",
       "      <td>...</td>\n",
       "      <td>...</td>\n",
       "      <td>...</td>\n",
       "      <td>...</td>\n",
       "      <td>...</td>\n",
       "    </tr>\n",
       "    <tr>\n",
       "      <th>66062</th>\n",
       "      <td>524</td>\n",
       "      <td>1193</td>\n",
       "      <td>1.0</td>\n",
       "      <td>851609665</td>\n",
       "      <td>['Drama']</td>\n",
       "      <td>[]</td>\n",
       "    </tr>\n",
       "    <tr>\n",
       "      <th>66007</th>\n",
       "      <td>524</td>\n",
       "      <td>173</td>\n",
       "      <td>1.0</td>\n",
       "      <td>851609191</td>\n",
       "      <td>['Action', 'Crime', 'Sci-Fi']</td>\n",
       "      <td>[]</td>\n",
       "    </tr>\n",
       "    <tr>\n",
       "      <th>66033</th>\n",
       "      <td>524</td>\n",
       "      <td>544</td>\n",
       "      <td>1.0</td>\n",
       "      <td>851609066</td>\n",
       "      <td>['Action', 'Crime']</td>\n",
       "      <td>[]</td>\n",
       "    </tr>\n",
       "    <tr>\n",
       "      <th>65989</th>\n",
       "      <td>524</td>\n",
       "      <td>12</td>\n",
       "      <td>1.0</td>\n",
       "      <td>852404800</td>\n",
       "      <td>['Comedy', 'Horror']</td>\n",
       "      <td>[]</td>\n",
       "    </tr>\n",
       "    <tr>\n",
       "      <th>66015</th>\n",
       "      <td>524</td>\n",
       "      <td>318</td>\n",
       "      <td>1.0</td>\n",
       "      <td>851608745</td>\n",
       "      <td>['Crime', 'Drama']</td>\n",
       "      <td>[]</td>\n",
       "    </tr>\n",
       "  </tbody>\n",
       "</table>\n",
       "<p>105 rows × 6 columns</p>\n",
       "</div>"
      ],
      "text/plain": [
       "       userId  movieId  rating  timestamp  \\\n",
       "66066     524     1200     5.0  851609623   \n",
       "66073     524     1233     5.0  851609788   \n",
       "66032     524      541     5.0  851609310   \n",
       "66021     524      377     5.0  851608745   \n",
       "66039     524      589     5.0  851608875   \n",
       "...       ...      ...     ...        ...   \n",
       "66062     524     1193     1.0  851609665   \n",
       "66007     524      173     1.0  851609191   \n",
       "66033     524      544     1.0  851609066   \n",
       "65989     524       12     1.0  852404800   \n",
       "66015     524      318     1.0  851608745   \n",
       "\n",
       "                                            genres tag  \n",
       "66066  ['Action', 'Adventure', 'Horror', 'Sci-Fi']  []  \n",
       "66073                   ['Action', 'Drama', 'War']  []  \n",
       "66032             ['Action', 'Sci-Fi', 'Thriller']  []  \n",
       "66021            ['Action', 'Romance', 'Thriller']  []  \n",
       "66039                         ['Action', 'Sci-Fi']  []  \n",
       "...                                            ...  ..  \n",
       "66062                                    ['Drama']  []  \n",
       "66007                ['Action', 'Crime', 'Sci-Fi']  []  \n",
       "66033                          ['Action', 'Crime']  []  \n",
       "65989                         ['Comedy', 'Horror']  []  \n",
       "66015                           ['Crime', 'Drama']  []  \n",
       "\n",
       "[105 rows x 6 columns]"
      ]
     },
     "execution_count": 55,
     "metadata": {},
     "output_type": "execute_result"
    }
   ],
   "source": [
    "# traindf[traindf['userId'] == 9].sort_values(by = 'rating', ascending = False)\n",
    "traindf[traindf['userId'] == 524].sort_values(by = 'rating', ascending = False)"
   ]
  },
  {
   "cell_type": "code",
   "execution_count": 29,
   "metadata": {
    "colab": {},
    "colab_type": "code",
    "id": "Y_QC1vZFK_G0",
    "outputId": "bc409d9a-36fb-48a3-9453-c219239fdfd9"
   },
   "outputs": [
    {
     "data": {
      "text/html": [
       "<div>\n",
       "<style scoped>\n",
       "    .dataframe tbody tr th:only-of-type {\n",
       "        vertical-align: middle;\n",
       "    }\n",
       "\n",
       "    .dataframe tbody tr th {\n",
       "        vertical-align: top;\n",
       "    }\n",
       "\n",
       "    .dataframe thead th {\n",
       "        text-align: right;\n",
       "    }\n",
       "</style>\n",
       "<table border=\"1\" class=\"dataframe\">\n",
       "  <thead>\n",
       "    <tr style=\"text-align: right;\">\n",
       "      <th></th>\n",
       "      <th>userId</th>\n",
       "      <th>movieId</th>\n",
       "      <th>rating</th>\n",
       "      <th>timestamp</th>\n",
       "      <th>genres</th>\n",
       "      <th>tag</th>\n",
       "    </tr>\n",
       "  </thead>\n",
       "  <tbody>\n",
       "    <tr>\n",
       "      <th>17795</th>\n",
       "      <td>574</td>\n",
       "      <td>110</td>\n",
       "      <td>5.0</td>\n",
       "      <td>834634504</td>\n",
       "      <td>['Action', 'Drama', 'War']</td>\n",
       "      <td>[]</td>\n",
       "    </tr>\n",
       "    <tr>\n",
       "      <th>17796</th>\n",
       "      <td>574</td>\n",
       "      <td>150</td>\n",
       "      <td>4.0</td>\n",
       "      <td>834634383</td>\n",
       "      <td>['Adventure', 'Drama', 'IMAX']</td>\n",
       "      <td>[]</td>\n",
       "    </tr>\n",
       "    <tr>\n",
       "      <th>17797</th>\n",
       "      <td>574</td>\n",
       "      <td>380</td>\n",
       "      <td>4.0</td>\n",
       "      <td>834634383</td>\n",
       "      <td>['Action', 'Adventure', 'Comedy', 'Romance', '...</td>\n",
       "      <td>[]</td>\n",
       "    </tr>\n",
       "    <tr>\n",
       "      <th>17798</th>\n",
       "      <td>574</td>\n",
       "      <td>434</td>\n",
       "      <td>4.0</td>\n",
       "      <td>834634464</td>\n",
       "      <td>['Action', 'Adventure', 'Thriller']</td>\n",
       "      <td>[]</td>\n",
       "    </tr>\n",
       "    <tr>\n",
       "      <th>17799</th>\n",
       "      <td>574</td>\n",
       "      <td>593</td>\n",
       "      <td>5.0</td>\n",
       "      <td>834634504</td>\n",
       "      <td>['Crime', 'Horror', 'Thriller']</td>\n",
       "      <td>[]</td>\n",
       "    </tr>\n",
       "  </tbody>\n",
       "</table>\n",
       "</div>"
      ],
      "text/plain": [
       "       userId  movieId  rating  timestamp  \\\n",
       "17795     574      110     5.0  834634504   \n",
       "17796     574      150     4.0  834634383   \n",
       "17797     574      380     4.0  834634383   \n",
       "17798     574      434     4.0  834634464   \n",
       "17799     574      593     5.0  834634504   \n",
       "\n",
       "                                                  genres tag  \n",
       "17795                         ['Action', 'Drama', 'War']  []  \n",
       "17796                     ['Adventure', 'Drama', 'IMAX']  []  \n",
       "17797  ['Action', 'Adventure', 'Comedy', 'Romance', '...  []  \n",
       "17798                ['Action', 'Adventure', 'Thriller']  []  \n",
       "17799                    ['Crime', 'Horror', 'Thriller']  []  "
      ]
     },
     "execution_count": 29,
     "metadata": {},
     "output_type": "execute_result"
    }
   ],
   "source": [
    "testdf[testdf['userId'] == 574]\n",
    "# testdf[testdf['userId'] == 574]\n",
    "# testdf[testdf['userId'] == 576]"
   ]
  },
  {
   "cell_type": "code",
   "execution_count": 71,
   "metadata": {
    "colab": {},
    "colab_type": "code",
    "id": "3nSK79AUK_G2",
    "outputId": "0e2be7bd-cd83-4b67-a38f-543b43bbc882",
    "scrolled": true
   },
   "outputs": [
    {
     "name": "stdout",
     "output_type": "stream",
     "text": [
      "       movieId       est     Model\n",
      "17799      593  4.353800  SVD + CF\n",
      "17795      110  4.330498  SVD + CF\n",
      "17796      150  4.192009  SVD + CF\n",
      "17797      380  3.822457  SVD + CF\n",
      "[593, 110, 150, 380]\n"
     ]
    },
    {
     "name": "stderr",
     "output_type": "stream",
     "text": [
      "/Users/drumilved/opt/anaconda3/lib/python3.7/site-packages/ipykernel_launcher.py:5: SettingWithCopyWarning: \n",
      "A value is trying to be set on a copy of a slice from a DataFrame.\n",
      "Try using .loc[row_indexer,col_indexer] = value instead\n",
      "\n",
      "See the caveats in the documentation: https://pandas.pydata.org/pandas-docs/stable/user_guide/indexing.html#returning-a-view-versus-a-copy\n",
      "  \"\"\"\n"
     ]
    },
    {
     "ename": "KeyError",
     "evalue": "'movieId'",
     "output_type": "error",
     "traceback": [
      "\u001b[0;31m---------------------------------------------------------------------------\u001b[0m",
      "\u001b[0;31mKeyError\u001b[0m                                  Traceback (most recent call last)",
      "\u001b[0;32m~/opt/anaconda3/lib/python3.7/site-packages/pandas/core/indexes/base.py\u001b[0m in \u001b[0;36mget_loc\u001b[0;34m(self, key, method, tolerance)\u001b[0m\n\u001b[1;32m   3079\u001b[0m             \u001b[0;32mtry\u001b[0m\u001b[0;34m:\u001b[0m\u001b[0;34m\u001b[0m\u001b[0;34m\u001b[0m\u001b[0m\n\u001b[0;32m-> 3080\u001b[0;31m                 \u001b[0;32mreturn\u001b[0m \u001b[0mself\u001b[0m\u001b[0;34m.\u001b[0m\u001b[0m_engine\u001b[0m\u001b[0;34m.\u001b[0m\u001b[0mget_loc\u001b[0m\u001b[0;34m(\u001b[0m\u001b[0mcasted_key\u001b[0m\u001b[0;34m)\u001b[0m\u001b[0;34m\u001b[0m\u001b[0;34m\u001b[0m\u001b[0m\n\u001b[0m\u001b[1;32m   3081\u001b[0m             \u001b[0;32mexcept\u001b[0m \u001b[0mKeyError\u001b[0m \u001b[0;32mas\u001b[0m \u001b[0merr\u001b[0m\u001b[0;34m:\u001b[0m\u001b[0;34m\u001b[0m\u001b[0;34m\u001b[0m\u001b[0m\n",
      "\u001b[0;32mpandas/_libs/index.pyx\u001b[0m in \u001b[0;36mpandas._libs.index.IndexEngine.get_loc\u001b[0;34m()\u001b[0m\n",
      "\u001b[0;32mpandas/_libs/index.pyx\u001b[0m in \u001b[0;36mpandas._libs.index.IndexEngine.get_loc\u001b[0;34m()\u001b[0m\n",
      "\u001b[0;32mpandas/_libs/hashtable_class_helper.pxi\u001b[0m in \u001b[0;36mpandas._libs.hashtable.PyObjectHashTable.get_item\u001b[0;34m()\u001b[0m\n",
      "\u001b[0;32mpandas/_libs/hashtable_class_helper.pxi\u001b[0m in \u001b[0;36mpandas._libs.hashtable.PyObjectHashTable.get_item\u001b[0;34m()\u001b[0m\n",
      "\u001b[0;31mKeyError\u001b[0m: 'movieId'",
      "\nThe above exception was the direct cause of the following exception:\n",
      "\u001b[0;31mKeyError\u001b[0m                                  Traceback (most recent call last)",
      "\u001b[0;32m<ipython-input-71-0d8116b93885>\u001b[0m in \u001b[0;36m<module>\u001b[0;34m\u001b[0m\n\u001b[1;32m      1\u001b[0m \u001b[0;31m# movie_ids = hybrid(1)\u001b[0m\u001b[0;34m\u001b[0m\u001b[0;34m\u001b[0m\u001b[0;34m\u001b[0m\u001b[0m\n\u001b[1;32m      2\u001b[0m \u001b[0;31m# movie_ids = hybrid(2)\u001b[0m\u001b[0;34m\u001b[0m\u001b[0;34m\u001b[0m\u001b[0;34m\u001b[0m\u001b[0m\n\u001b[0;32m----> 3\u001b[0;31m \u001b[0mmovie_ids\u001b[0m \u001b[0;34m=\u001b[0m \u001b[0mhybrid\u001b[0m\u001b[0;34m(\u001b[0m\u001b[0;36m574\u001b[0m\u001b[0;34m)\u001b[0m\u001b[0;34m\u001b[0m\u001b[0;34m\u001b[0m\u001b[0m\n\u001b[0m\u001b[1;32m      4\u001b[0m \u001b[0;31m# movie_ids = hybrid(9)\u001b[0m\u001b[0;34m\u001b[0m\u001b[0;34m\u001b[0m\u001b[0;34m\u001b[0m\u001b[0m\n\u001b[1;32m      5\u001b[0m \u001b[0;31m# movie_ids = hybrid(576)\u001b[0m\u001b[0;34m\u001b[0m\u001b[0;34m\u001b[0m\u001b[0;34m\u001b[0m\u001b[0m\n",
      "\u001b[0;32m<ipython-input-65-c3fabfe0a0be>\u001b[0m in \u001b[0;36mhybrid\u001b[0;34m(userId)\u001b[0m\n\u001b[1;32m     23\u001b[0m     \u001b[0;32mfor\u001b[0m \u001b[0mmovie_id\u001b[0m \u001b[0;32min\u001b[0m \u001b[0mmovie_list\u001b[0m\u001b[0;34m:\u001b[0m\u001b[0;34m\u001b[0m\u001b[0;34m\u001b[0m\u001b[0m\n\u001b[1;32m     24\u001b[0m         \u001b[0;31m# Call content based\u001b[0m\u001b[0;34m\u001b[0m\u001b[0;34m\u001b[0m\u001b[0;34m\u001b[0m\u001b[0m\n\u001b[0;32m---> 25\u001b[0;31m         \u001b[0mmovie_title\u001b[0m \u001b[0;34m=\u001b[0m \u001b[0mmovies\u001b[0m\u001b[0;34m[\u001b[0m\u001b[0;34m'title'\u001b[0m\u001b[0;34m]\u001b[0m\u001b[0;34m[\u001b[0m\u001b[0mmovies\u001b[0m\u001b[0;34m[\u001b[0m\u001b[0;34m'movieId'\u001b[0m\u001b[0;34m]\u001b[0m \u001b[0;34m==\u001b[0m \u001b[0mmovie_id\u001b[0m\u001b[0;34m]\u001b[0m\u001b[0;34m.\u001b[0m\u001b[0mvalues\u001b[0m\u001b[0;34m[\u001b[0m\u001b[0;36m0\u001b[0m\u001b[0;34m]\u001b[0m\u001b[0;34m\u001b[0m\u001b[0;34m\u001b[0m\u001b[0m\n\u001b[0m\u001b[1;32m     26\u001b[0m         \u001b[0msim_movies\u001b[0m \u001b[0;34m=\u001b[0m \u001b[0mget_recommendations_new\u001b[0m\u001b[0;34m(\u001b[0m\u001b[0mmovie_title\u001b[0m\u001b[0;34m)\u001b[0m\u001b[0;34m\u001b[0m\u001b[0;34m\u001b[0m\u001b[0m\n\u001b[1;32m     27\u001b[0m \u001b[0;31m#         print(sim_movies.values.tolist())\u001b[0m\u001b[0;34m\u001b[0m\u001b[0;34m\u001b[0m\u001b[0;34m\u001b[0m\u001b[0m\n",
      "\u001b[0;32m~/opt/anaconda3/lib/python3.7/site-packages/pandas/core/frame.py\u001b[0m in \u001b[0;36m__getitem__\u001b[0;34m(self, key)\u001b[0m\n\u001b[1;32m   3022\u001b[0m             \u001b[0;32mif\u001b[0m \u001b[0mself\u001b[0m\u001b[0;34m.\u001b[0m\u001b[0mcolumns\u001b[0m\u001b[0;34m.\u001b[0m\u001b[0mnlevels\u001b[0m \u001b[0;34m>\u001b[0m \u001b[0;36m1\u001b[0m\u001b[0;34m:\u001b[0m\u001b[0;34m\u001b[0m\u001b[0;34m\u001b[0m\u001b[0m\n\u001b[1;32m   3023\u001b[0m                 \u001b[0;32mreturn\u001b[0m \u001b[0mself\u001b[0m\u001b[0;34m.\u001b[0m\u001b[0m_getitem_multilevel\u001b[0m\u001b[0;34m(\u001b[0m\u001b[0mkey\u001b[0m\u001b[0;34m)\u001b[0m\u001b[0;34m\u001b[0m\u001b[0;34m\u001b[0m\u001b[0m\n\u001b[0;32m-> 3024\u001b[0;31m             \u001b[0mindexer\u001b[0m \u001b[0;34m=\u001b[0m \u001b[0mself\u001b[0m\u001b[0;34m.\u001b[0m\u001b[0mcolumns\u001b[0m\u001b[0;34m.\u001b[0m\u001b[0mget_loc\u001b[0m\u001b[0;34m(\u001b[0m\u001b[0mkey\u001b[0m\u001b[0;34m)\u001b[0m\u001b[0;34m\u001b[0m\u001b[0;34m\u001b[0m\u001b[0m\n\u001b[0m\u001b[1;32m   3025\u001b[0m             \u001b[0;32mif\u001b[0m \u001b[0mis_integer\u001b[0m\u001b[0;34m(\u001b[0m\u001b[0mindexer\u001b[0m\u001b[0;34m)\u001b[0m\u001b[0;34m:\u001b[0m\u001b[0;34m\u001b[0m\u001b[0;34m\u001b[0m\u001b[0m\n\u001b[1;32m   3026\u001b[0m                 \u001b[0mindexer\u001b[0m \u001b[0;34m=\u001b[0m \u001b[0;34m[\u001b[0m\u001b[0mindexer\u001b[0m\u001b[0;34m]\u001b[0m\u001b[0;34m\u001b[0m\u001b[0;34m\u001b[0m\u001b[0m\n",
      "\u001b[0;32m~/opt/anaconda3/lib/python3.7/site-packages/pandas/core/indexes/base.py\u001b[0m in \u001b[0;36mget_loc\u001b[0;34m(self, key, method, tolerance)\u001b[0m\n\u001b[1;32m   3080\u001b[0m                 \u001b[0;32mreturn\u001b[0m \u001b[0mself\u001b[0m\u001b[0;34m.\u001b[0m\u001b[0m_engine\u001b[0m\u001b[0;34m.\u001b[0m\u001b[0mget_loc\u001b[0m\u001b[0;34m(\u001b[0m\u001b[0mcasted_key\u001b[0m\u001b[0;34m)\u001b[0m\u001b[0;34m\u001b[0m\u001b[0;34m\u001b[0m\u001b[0m\n\u001b[1;32m   3081\u001b[0m             \u001b[0;32mexcept\u001b[0m \u001b[0mKeyError\u001b[0m \u001b[0;32mas\u001b[0m \u001b[0merr\u001b[0m\u001b[0;34m:\u001b[0m\u001b[0;34m\u001b[0m\u001b[0;34m\u001b[0m\u001b[0m\n\u001b[0;32m-> 3082\u001b[0;31m                 \u001b[0;32mraise\u001b[0m \u001b[0mKeyError\u001b[0m\u001b[0;34m(\u001b[0m\u001b[0mkey\u001b[0m\u001b[0;34m)\u001b[0m \u001b[0;32mfrom\u001b[0m \u001b[0merr\u001b[0m\u001b[0;34m\u001b[0m\u001b[0;34m\u001b[0m\u001b[0m\n\u001b[0m\u001b[1;32m   3083\u001b[0m \u001b[0;34m\u001b[0m\u001b[0m\n\u001b[1;32m   3084\u001b[0m         \u001b[0;32mif\u001b[0m \u001b[0mtolerance\u001b[0m \u001b[0;32mis\u001b[0m \u001b[0;32mnot\u001b[0m \u001b[0;32mNone\u001b[0m\u001b[0;34m:\u001b[0m\u001b[0;34m\u001b[0m\u001b[0;34m\u001b[0m\u001b[0m\n",
      "\u001b[0;31mKeyError\u001b[0m: 'movieId'"
     ]
    }
   ],
   "source": [
    "# movie_ids = hybrid(1)\n",
    "# movie_ids = hybrid(2)\n",
    "movie_ids = hybrid(574)\n",
    "# movie_ids = hybrid(9)\n",
    "# movie_ids = hybrid(576)"
   ]
  },
  {
   "cell_type": "code",
   "execution_count": 56,
   "metadata": {
    "colab": {},
    "colab_type": "code",
    "id": "Xps-jxbrK_G5"
   },
   "outputs": [],
   "source": [
    "def get_title(x):\n",
    "    mid = x['movieId']\n",
    "    return movies['title'][movies['movieId'] == mid].values"
   ]
  },
  {
   "cell_type": "code",
   "execution_count": 57,
   "metadata": {
    "colab": {},
    "colab_type": "code",
    "id": "yqKlKMEKK_G7"
   },
   "outputs": [],
   "source": [
    "def get_genre(x):\n",
    "    mid = x['movieId']\n",
    "    return movies['genres'][movies['movieId'] == mid].values"
   ]
  },
  {
   "cell_type": "code",
   "execution_count": 68,
   "metadata": {
    "colab": {},
    "colab_type": "code",
    "id": "kWHg99PXK_G9"
   },
   "outputs": [],
   "source": [
    "# movie_ids['title'] = movie_ids.apply(get_title, axis=1)\n",
    "# movie_ids['genre'] = movie_ids.apply(get_genre, axis=a1)"
   ]
  },
  {
   "cell_type": "code",
   "execution_count": 69,
   "metadata": {
    "colab": {},
    "colab_type": "code",
    "id": "cBJMuis9K_G_",
    "outputId": "f55c643d-697b-4639-c4aa-4e663d3b2db0",
    "scrolled": true
   },
   "outputs": [],
   "source": [
    "# movie_ids.sort_values(by='est', ascending = False).head(10)"
   ]
  },
  {
   "cell_type": "code",
   "execution_count": null,
   "metadata": {
    "colab": {},
    "colab_type": "code",
    "id": "9tGGHCBeK_HB"
   },
   "outputs": [],
   "source": []
  }
 ],
 "metadata": {
  "colab": {
   "collapsed_sections": [],
   "name": "hybrid_model.ipynb",
   "provenance": []
  },
  "kernelspec": {
   "display_name": "Python 3",
   "language": "python",
   "name": "python3"
  },
  "language_info": {
   "codemirror_mode": {
    "name": "ipython",
    "version": 3
   },
   "file_extension": ".py",
   "mimetype": "text/x-python",
   "name": "python",
   "nbconvert_exporter": "python",
   "pygments_lexer": "ipython3",
   "version": "3.7.10"
  }
 },
 "nbformat": 4,
 "nbformat_minor": 1
}
